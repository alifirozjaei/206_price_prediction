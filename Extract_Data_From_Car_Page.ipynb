{
 "cells": [
  {
   "cell_type": "code",
   "execution_count": 1,
   "id": "f26220e6",
   "metadata": {},
   "outputs": [],
   "source": [
    "import requests\n",
    "from bs4 import BeautifulSoup\n",
    "import numpy as np\n",
    "import pandas as pd\n",
    "import traceback\n",
    "import time"
   ]
  },
  {
   "cell_type": "code",
   "execution_count": 36,
   "id": "0c4ac609",
   "metadata": {},
   "outputs": [],
   "source": [
    "token_df = pd.read_csv(\"206-token.csv\")"
   ]
  },
  {
   "cell_type": "code",
   "execution_count": 37,
   "id": "acfc1700",
   "metadata": {},
   "outputs": [
    {
     "name": "stdout",
     "output_type": "stream",
     "text": [
      "20\n",
      "40\n",
      "60\n",
      "80\n",
      "100\n",
      "120\n",
      "140\n",
      "160\n",
      "180\n",
      "200\n",
      "220\n",
      "240\n",
      "260\n",
      "280\n",
      "300\n",
      "320\n",
      "340\n",
      "360\n",
      "380\n",
      "400\n",
      "420\n",
      "440\n",
      "460\n",
      "480\n",
      "500\n",
      "520\n",
      "540\n",
      "560\n",
      "580\n",
      "600\n",
      "620\n",
      "640\n",
      "660\n",
      "680\n",
      "700\n",
      "720\n",
      "740\n",
      "760\n",
      "780\n",
      "800\n",
      "820\n",
      "840\n",
      "860\n",
      "880\n",
      "900\n",
      "920\n",
      "940\n",
      "960\n",
      "980\n",
      "1000\n",
      "1020\n",
      "1040\n",
      "1060\n",
      "1080\n",
      "1100\n",
      "1120\n",
      "1140\n",
      "1160\n",
      "1180\n",
      "1200\n",
      "1220\n",
      "1240\n",
      "1260\n",
      "1280\n",
      "1300\n",
      "1320\n",
      "1340\n",
      "1360\n",
      "1380\n",
      "1400\n",
      "1420\n",
      "1440\n",
      "1460\n",
      "1480\n",
      "1500\n",
      "1520\n",
      "1540\n",
      "1560\n",
      "1580\n",
      "1600\n",
      "1620\n",
      "1640\n",
      "1660\n",
      "1680\n",
      "1700\n",
      "1720\n",
      "1740\n",
      "1760\n",
      "1780\n",
      "1800\n",
      "1820\n",
      "1840\n",
      "1860\n",
      "1880\n",
      "1900\n",
      "1920\n",
      "1940\n",
      "1960\n",
      "1980\n",
      "2000\n",
      "2020\n",
      "2040\n",
      "2060\n",
      "2080\n",
      "2100\n",
      "2120\n",
      "2140\n",
      "2160\n",
      "2180\n",
      "2200\n",
      "2220\n",
      "2240\n",
      "2260\n",
      "2280\n",
      "2300\n"
     ]
    }
   ],
   "source": [
    "cars_detail = []\n",
    "counter = 0\n",
    "for token in token_df.to_numpy()[:2300,1]:\n",
    "    counter +=1\n",
    "    if counter %20 == 0:\n",
    "        print(counter)\n",
    "#     if counter % 5 == 0:\n",
    "#         time.sleep(2)\n",
    "    try:\n",
    "        URL = f\"https://divar.ir/v/url/{token}\"\n",
    "        page = requests.get(URL)\n",
    "        time.sleep(1)\n",
    "        soup = BeautifulSoup(page.content, \"html.parser\")\n",
    "        elms = soup.find_all(\"div\", class_=\"kt-group-row-item--info-row\")\n",
    "\n",
    "        distance = elms[0].find_all('span')[1].get_text()\n",
    "        model = elms[1].find_all('span')[1].get_text()\n",
    "        color = elms[2].find_all('span')[1].get_text()\n",
    "\n",
    "\n",
    "        elms = soup.find_all(\"div\", class_=\"kt-unexpandable-row\")\n",
    "        price = None\n",
    "        motor_status = None\n",
    "        body_status = None \n",
    "        structure_status = None\n",
    "        insurance_status = None\n",
    "        for el in elms: \n",
    "            if len(el.find_all('p')) == 2:\n",
    "                title = el.find_all('p')[0].get_text()\n",
    "                value = el.find_all('p')[1].get_text()\n",
    "                if 'موتور' in title:\n",
    "                    motor_status = value\n",
    "                elif 'قیمت' in title:\n",
    "                    price = value\n",
    "                elif 'شاسی' in title:\n",
    "                    structure_status = value\n",
    "                elif 'بدنه' in title:\n",
    "                    body_status = value\n",
    "                elif 'بیمه' in title:\n",
    "                    insurance_status = value\n",
    "        cars_detail.append([token,distance, model, color, price, motor_status, body_status, structure_status, insurance_status])\n",
    "    except Exception as e:\n",
    "#         print(\"Error !\",token,  counter, \"->\", )#repr(e)\n",
    "        time.sleep(10)\n",
    "#         print(traceback.format_exc())\n",
    "#         print(\"-----------------------\")\n"
   ]
  },
  {
   "cell_type": "code",
   "execution_count": 38,
   "id": "d6250f44",
   "metadata": {},
   "outputs": [],
   "source": [
    "cars_df = pd.DataFrame(cars_detail, columns=['Token', 'Distance', 'Model', 'Color','Price', \"Motor\", \"Body\", 'Structure', \"Insurance\"])"
   ]
  },
  {
   "cell_type": "code",
   "execution_count": 39,
   "id": "195a18b1",
   "metadata": {},
   "outputs": [],
   "source": [
    "cars_df.to_csv(\"Car_206_Dataset.csv\")"
   ]
  },
  {
   "cell_type": "code",
   "execution_count": 40,
   "id": "6a9b6e26",
   "metadata": {},
   "outputs": [
    {
     "data": {
      "text/html": [
       "<div>\n",
       "<style scoped>\n",
       "    .dataframe tbody tr th:only-of-type {\n",
       "        vertical-align: middle;\n",
       "    }\n",
       "\n",
       "    .dataframe tbody tr th {\n",
       "        vertical-align: top;\n",
       "    }\n",
       "\n",
       "    .dataframe thead th {\n",
       "        text-align: right;\n",
       "    }\n",
       "</style>\n",
       "<table border=\"1\" class=\"dataframe\">\n",
       "  <thead>\n",
       "    <tr style=\"text-align: right;\">\n",
       "      <th></th>\n",
       "      <th>Token</th>\n",
       "      <th>Distance</th>\n",
       "      <th>Model</th>\n",
       "      <th>Color</th>\n",
       "      <th>Price</th>\n",
       "      <th>Motor</th>\n",
       "      <th>Body</th>\n",
       "      <th>Structure</th>\n",
       "      <th>Insurance</th>\n",
       "    </tr>\n",
       "  </thead>\n",
       "  <tbody>\n",
       "    <tr>\n",
       "      <th>0</th>\n",
       "      <td>AZ-1fYag</td>\n",
       "      <td>۸۳٬۰۰۰</td>\n",
       "      <td>۱۳۹۷</td>\n",
       "      <td>خاکستری</td>\n",
       "      <td>۳۸۸٬۰۰۰٬۰۰۰ تومان</td>\n",
       "      <td>سالم</td>\n",
       "      <td>رنگ‌شدگی</td>\n",
       "      <td>سالم و پلمپ</td>\n",
       "      <td>۱۱ ماه</td>\n",
       "    </tr>\n",
       "    <tr>\n",
       "      <th>1</th>\n",
       "      <td>AZ-1rcG1</td>\n",
       "      <td>۱۶۰٬۰۰۰</td>\n",
       "      <td>۱۳۸۸</td>\n",
       "      <td>سفید</td>\n",
       "      <td>۲۷۵٬۰۰۰٬۰۰۰ تومان</td>\n",
       "      <td>سالم</td>\n",
       "      <td>دوررنگ</td>\n",
       "      <td>سالم و پلمپ</td>\n",
       "      <td>۶ ماه</td>\n",
       "    </tr>\n",
       "    <tr>\n",
       "      <th>2</th>\n",
       "      <td>AZ-5PN-P</td>\n",
       "      <td>۱۶۰٬۰۰۰</td>\n",
       "      <td>۱۳۹۶</td>\n",
       "      <td>سفید</td>\n",
       "      <td>۳۵۰٬۰۰۰٬۰۰۰ تومان</td>\n",
       "      <td>سالم</td>\n",
       "      <td>خط و خش جزیی</td>\n",
       "      <td>سالم و پلمپ</td>\n",
       "      <td>۱۲ ماه</td>\n",
       "    </tr>\n",
       "    <tr>\n",
       "      <th>3</th>\n",
       "      <td>AZ-5P_R6</td>\n",
       "      <td>۶۰٬۰۰۰</td>\n",
       "      <td>۱۳۸۳</td>\n",
       "      <td>خاکستری</td>\n",
       "      <td>۲۴۰٬۰۰۰٬۰۰۰ تومان</td>\n",
       "      <td>سالم</td>\n",
       "      <td>خط و خش جزیی</td>\n",
       "      <td>سالم و پلمپ</td>\n",
       "      <td>None</td>\n",
       "    </tr>\n",
       "    <tr>\n",
       "      <th>4</th>\n",
       "      <td>AZ-5_3Yv</td>\n",
       "      <td>۲۵۰٬۰۰۰</td>\n",
       "      <td>۱۳۸۳</td>\n",
       "      <td>تیتانیوم</td>\n",
       "      <td>۱۸۵٬۰۰۰٬۰۰۰ تومان</td>\n",
       "      <td>سالم</td>\n",
       "      <td>سالم و بی‌خط و خش</td>\n",
       "      <td>سالم و پلمپ</td>\n",
       "      <td>۸ ماه</td>\n",
       "    </tr>\n",
       "    <tr>\n",
       "      <th>...</th>\n",
       "      <td>...</td>\n",
       "      <td>...</td>\n",
       "      <td>...</td>\n",
       "      <td>...</td>\n",
       "      <td>...</td>\n",
       "      <td>...</td>\n",
       "      <td>...</td>\n",
       "      <td>...</td>\n",
       "      <td>...</td>\n",
       "    </tr>\n",
       "    <tr>\n",
       "      <th>2092</th>\n",
       "      <td>AZXqAZIM</td>\n",
       "      <td>۱۲۰٬۰۰۰</td>\n",
       "      <td>۱۳۹۴</td>\n",
       "      <td>سفید</td>\n",
       "      <td>۱۵۰٬۰۰۰٬۰۰۰ تومان</td>\n",
       "      <td>سالم</td>\n",
       "      <td>سالم و بی‌خط و خش</td>\n",
       "      <td>سالم و پلمپ</td>\n",
       "      <td>۸ ماه</td>\n",
       "    </tr>\n",
       "    <tr>\n",
       "      <th>2093</th>\n",
       "      <td>AZXqEgku</td>\n",
       "      <td>۳۰۰٬۰۰۰</td>\n",
       "      <td>۱۳۸۱</td>\n",
       "      <td>مشکی</td>\n",
       "      <td>۱۵۵٬۰۰۰٬۰۰۰ تومان</td>\n",
       "      <td>سالم</td>\n",
       "      <td>رنگ‌شدگی</td>\n",
       "      <td>سالم و پلمپ</td>\n",
       "      <td>۹ ماه</td>\n",
       "    </tr>\n",
       "    <tr>\n",
       "      <th>2094</th>\n",
       "      <td>AZXqJ5ym</td>\n",
       "      <td>۳۱۰٬۰۰۰</td>\n",
       "      <td>۱۳۸۵</td>\n",
       "      <td>بژ</td>\n",
       "      <td>۲۳۰٬۰۰۰٬۰۰۰ تومان</td>\n",
       "      <td>سالم</td>\n",
       "      <td>رنگ‌شدگی</td>\n",
       "      <td>سالم و پلمپ</td>\n",
       "      <td>۲ ماه</td>\n",
       "    </tr>\n",
       "    <tr>\n",
       "      <th>2095</th>\n",
       "      <td>AZXqTadz</td>\n",
       "      <td>۷۴٬۰۰۰</td>\n",
       "      <td>۱۳۹۸</td>\n",
       "      <td>سفید</td>\n",
       "      <td>۳۴۸٬۰۰۰٬۰۰۰ تومان</td>\n",
       "      <td>سالم</td>\n",
       "      <td>رنگ‌شدگی</td>\n",
       "      <td>سالم و پلمپ</td>\n",
       "      <td>۶ ماه</td>\n",
       "    </tr>\n",
       "    <tr>\n",
       "      <th>2096</th>\n",
       "      <td>AZXqdLB0</td>\n",
       "      <td>۷۰۰</td>\n",
       "      <td>۱۴۰۰</td>\n",
       "      <td>سفید</td>\n",
       "      <td>۴۹۰٬۰۰۰٬۰۰۰ تومان</td>\n",
       "      <td>سالم</td>\n",
       "      <td>سالم و بی‌خط و خش</td>\n",
       "      <td>سالم و پلمپ</td>\n",
       "      <td>۳ ماه</td>\n",
       "    </tr>\n",
       "  </tbody>\n",
       "</table>\n",
       "<p>2097 rows × 9 columns</p>\n",
       "</div>"
      ],
      "text/plain": [
       "         Token Distance Model     Color              Price Motor  \\\n",
       "0     AZ-1fYag   ۸۳٬۰۰۰  ۱۳۹۷   خاکستری  ۳۸۸٬۰۰۰٬۰۰۰ تومان  سالم   \n",
       "1     AZ-1rcG1  ۱۶۰٬۰۰۰  ۱۳۸۸      سفید  ۲۷۵٬۰۰۰٬۰۰۰ تومان  سالم   \n",
       "2     AZ-5PN-P  ۱۶۰٬۰۰۰  ۱۳۹۶      سفید  ۳۵۰٬۰۰۰٬۰۰۰ تومان  سالم   \n",
       "3     AZ-5P_R6   ۶۰٬۰۰۰  ۱۳۸۳   خاکستری  ۲۴۰٬۰۰۰٬۰۰۰ تومان  سالم   \n",
       "4     AZ-5_3Yv  ۲۵۰٬۰۰۰  ۱۳۸۳  تیتانیوم  ۱۸۵٬۰۰۰٬۰۰۰ تومان  سالم   \n",
       "...        ...      ...   ...       ...                ...   ...   \n",
       "2092  AZXqAZIM  ۱۲۰٬۰۰۰  ۱۳۹۴      سفید  ۱۵۰٬۰۰۰٬۰۰۰ تومان  سالم   \n",
       "2093  AZXqEgku  ۳۰۰٬۰۰۰  ۱۳۸۱      مشکی  ۱۵۵٬۰۰۰٬۰۰۰ تومان  سالم   \n",
       "2094  AZXqJ5ym  ۳۱۰٬۰۰۰  ۱۳۸۵        بژ  ۲۳۰٬۰۰۰٬۰۰۰ تومان  سالم   \n",
       "2095  AZXqTadz   ۷۴٬۰۰۰  ۱۳۹۸      سفید  ۳۴۸٬۰۰۰٬۰۰۰ تومان  سالم   \n",
       "2096  AZXqdLB0      ۷۰۰  ۱۴۰۰      سفید  ۴۹۰٬۰۰۰٬۰۰۰ تومان  سالم   \n",
       "\n",
       "                   Body    Structure Insurance  \n",
       "0              رنگ‌شدگی  سالم و پلمپ    ۱۱ ماه  \n",
       "1                دوررنگ  سالم و پلمپ     ۶ ماه  \n",
       "2          خط و خش جزیی  سالم و پلمپ    ۱۲ ماه  \n",
       "3          خط و خش جزیی  سالم و پلمپ      None  \n",
       "4     سالم و بی‌خط و خش  سالم و پلمپ     ۸ ماه  \n",
       "...                 ...          ...       ...  \n",
       "2092  سالم و بی‌خط و خش  سالم و پلمپ     ۸ ماه  \n",
       "2093           رنگ‌شدگی  سالم و پلمپ     ۹ ماه  \n",
       "2094           رنگ‌شدگی  سالم و پلمپ     ۲ ماه  \n",
       "2095           رنگ‌شدگی  سالم و پلمپ     ۶ ماه  \n",
       "2096  سالم و بی‌خط و خش  سالم و پلمپ     ۳ ماه  \n",
       "\n",
       "[2097 rows x 9 columns]"
      ]
     },
     "execution_count": 40,
     "metadata": {},
     "output_type": "execute_result"
    }
   ],
   "source": [
    "cars_df"
   ]
  },
  {
   "cell_type": "markdown",
   "id": "8776e684",
   "metadata": {},
   "source": [
    "## Load Dataset"
   ]
  },
  {
   "cell_type": "code",
   "execution_count": 295,
   "id": "7e333cca",
   "metadata": {},
   "outputs": [],
   "source": [
    "import pandas as pd \n",
    "import numpy as np\n",
    "import matplotlib.pyplot as plt "
   ]
  },
  {
   "cell_type": "code",
   "execution_count": 296,
   "id": "a084acb9",
   "metadata": {},
   "outputs": [],
   "source": [
    "df = pd.read_csv(\"Car_206_Dataset.csv\")"
   ]
  },
  {
   "cell_type": "code",
   "execution_count": 297,
   "id": "3476bab1",
   "metadata": {},
   "outputs": [
    {
     "data": {
      "text/html": [
       "<div>\n",
       "<style scoped>\n",
       "    .dataframe tbody tr th:only-of-type {\n",
       "        vertical-align: middle;\n",
       "    }\n",
       "\n",
       "    .dataframe tbody tr th {\n",
       "        vertical-align: top;\n",
       "    }\n",
       "\n",
       "    .dataframe thead th {\n",
       "        text-align: right;\n",
       "    }\n",
       "</style>\n",
       "<table border=\"1\" class=\"dataframe\">\n",
       "  <thead>\n",
       "    <tr style=\"text-align: right;\">\n",
       "      <th></th>\n",
       "      <th>Unnamed: 0</th>\n",
       "      <th>Token</th>\n",
       "      <th>Distance</th>\n",
       "      <th>Model</th>\n",
       "      <th>Color</th>\n",
       "      <th>Price</th>\n",
       "      <th>Motor</th>\n",
       "      <th>Body</th>\n",
       "      <th>Structure</th>\n",
       "      <th>Insurance</th>\n",
       "    </tr>\n",
       "  </thead>\n",
       "  <tbody>\n",
       "    <tr>\n",
       "      <th>0</th>\n",
       "      <td>0</td>\n",
       "      <td>AZ-1fYag</td>\n",
       "      <td>۸۳٬۰۰۰</td>\n",
       "      <td>۱۳۹۷</td>\n",
       "      <td>خاکستری</td>\n",
       "      <td>۳۸۸٬۰۰۰٬۰۰۰ تومان</td>\n",
       "      <td>سالم</td>\n",
       "      <td>رنگ‌شدگی</td>\n",
       "      <td>سالم و پلمپ</td>\n",
       "      <td>۱۱ ماه</td>\n",
       "    </tr>\n",
       "    <tr>\n",
       "      <th>1</th>\n",
       "      <td>1</td>\n",
       "      <td>AZ-1rcG1</td>\n",
       "      <td>۱۶۰٬۰۰۰</td>\n",
       "      <td>۱۳۸۸</td>\n",
       "      <td>سفید</td>\n",
       "      <td>۲۷۵٬۰۰۰٬۰۰۰ تومان</td>\n",
       "      <td>سالم</td>\n",
       "      <td>دوررنگ</td>\n",
       "      <td>سالم و پلمپ</td>\n",
       "      <td>۶ ماه</td>\n",
       "    </tr>\n",
       "    <tr>\n",
       "      <th>2</th>\n",
       "      <td>2</td>\n",
       "      <td>AZ-5PN-P</td>\n",
       "      <td>۱۶۰٬۰۰۰</td>\n",
       "      <td>۱۳۹۶</td>\n",
       "      <td>سفید</td>\n",
       "      <td>۳۵۰٬۰۰۰٬۰۰۰ تومان</td>\n",
       "      <td>سالم</td>\n",
       "      <td>خط و خش جزیی</td>\n",
       "      <td>سالم و پلمپ</td>\n",
       "      <td>۱۲ ماه</td>\n",
       "    </tr>\n",
       "    <tr>\n",
       "      <th>3</th>\n",
       "      <td>3</td>\n",
       "      <td>AZ-5P_R6</td>\n",
       "      <td>۶۰٬۰۰۰</td>\n",
       "      <td>۱۳۸۳</td>\n",
       "      <td>خاکستری</td>\n",
       "      <td>۲۴۰٬۰۰۰٬۰۰۰ تومان</td>\n",
       "      <td>سالم</td>\n",
       "      <td>خط و خش جزیی</td>\n",
       "      <td>سالم و پلمپ</td>\n",
       "      <td>NaN</td>\n",
       "    </tr>\n",
       "    <tr>\n",
       "      <th>4</th>\n",
       "      <td>4</td>\n",
       "      <td>AZ-5_3Yv</td>\n",
       "      <td>۲۵۰٬۰۰۰</td>\n",
       "      <td>۱۳۸۳</td>\n",
       "      <td>تیتانیوم</td>\n",
       "      <td>۱۸۵٬۰۰۰٬۰۰۰ تومان</td>\n",
       "      <td>سالم</td>\n",
       "      <td>سالم و بی‌خط و خش</td>\n",
       "      <td>سالم و پلمپ</td>\n",
       "      <td>۸ ماه</td>\n",
       "    </tr>\n",
       "  </tbody>\n",
       "</table>\n",
       "</div>"
      ],
      "text/plain": [
       "   Unnamed: 0     Token Distance Model     Color              Price Motor  \\\n",
       "0           0  AZ-1fYag   ۸۳٬۰۰۰  ۱۳۹۷   خاکستری  ۳۸۸٬۰۰۰٬۰۰۰ تومان  سالم   \n",
       "1           1  AZ-1rcG1  ۱۶۰٬۰۰۰  ۱۳۸۸      سفید  ۲۷۵٬۰۰۰٬۰۰۰ تومان  سالم   \n",
       "2           2  AZ-5PN-P  ۱۶۰٬۰۰۰  ۱۳۹۶      سفید  ۳۵۰٬۰۰۰٬۰۰۰ تومان  سالم   \n",
       "3           3  AZ-5P_R6   ۶۰٬۰۰۰  ۱۳۸۳   خاکستری  ۲۴۰٬۰۰۰٬۰۰۰ تومان  سالم   \n",
       "4           4  AZ-5_3Yv  ۲۵۰٬۰۰۰  ۱۳۸۳  تیتانیوم  ۱۸۵٬۰۰۰٬۰۰۰ تومان  سالم   \n",
       "\n",
       "                Body    Structure Insurance  \n",
       "0           رنگ‌شدگی  سالم و پلمپ    ۱۱ ماه  \n",
       "1             دوررنگ  سالم و پلمپ     ۶ ماه  \n",
       "2       خط و خش جزیی  سالم و پلمپ    ۱۲ ماه  \n",
       "3       خط و خش جزیی  سالم و پلمپ       NaN  \n",
       "4  سالم و بی‌خط و خش  سالم و پلمپ     ۸ ماه  "
      ]
     },
     "execution_count": 297,
     "metadata": {},
     "output_type": "execute_result"
    }
   ],
   "source": [
    "df.head()"
   ]
  },
  {
   "cell_type": "markdown",
   "id": "23323c77",
   "metadata": {},
   "source": [
    "## Preprocessing "
   ]
  },
  {
   "cell_type": "markdown",
   "id": "98df8998",
   "metadata": {},
   "source": [
    "### Remove & Fill Null Value"
   ]
  },
  {
   "cell_type": "code",
   "execution_count": 298,
   "id": "701e27b5",
   "metadata": {},
   "outputs": [
    {
     "name": "stdout",
     "output_type": "stream",
     "text": [
      "<class 'pandas.core.frame.DataFrame'>\n",
      "RangeIndex: 2097 entries, 0 to 2096\n",
      "Data columns (total 10 columns):\n",
      " #   Column      Non-Null Count  Dtype \n",
      "---  ------      --------------  ----- \n",
      " 0   Unnamed: 0  2097 non-null   int64 \n",
      " 1   Token       2097 non-null   object\n",
      " 2   Distance    2097 non-null   object\n",
      " 3   Model       2097 non-null   object\n",
      " 4   Color       2097 non-null   object\n",
      " 5   Price       2097 non-null   object\n",
      " 6   Motor       2051 non-null   object\n",
      " 7   Body        2097 non-null   object\n",
      " 8   Structure   2049 non-null   object\n",
      " 9   Insurance   1964 non-null   object\n",
      "dtypes: int64(1), object(9)\n",
      "memory usage: 164.0+ KB\n"
     ]
    }
   ],
   "source": [
    "df.info()"
   ]
  },
  {
   "cell_type": "code",
   "execution_count": 299,
   "id": "a92c63b4",
   "metadata": {},
   "outputs": [],
   "source": [
    "df = df.dropna(subset=['Insurance'])"
   ]
  },
  {
   "cell_type": "code",
   "execution_count": 300,
   "id": "da1d6148",
   "metadata": {},
   "outputs": [
    {
     "name": "stdout",
     "output_type": "stream",
     "text": [
      "<class 'pandas.core.frame.DataFrame'>\n",
      "Int64Index: 1964 entries, 0 to 2096\n",
      "Data columns (total 10 columns):\n",
      " #   Column      Non-Null Count  Dtype \n",
      "---  ------      --------------  ----- \n",
      " 0   Unnamed: 0  1964 non-null   int64 \n",
      " 1   Token       1964 non-null   object\n",
      " 2   Distance    1964 non-null   object\n",
      " 3   Model       1964 non-null   object\n",
      " 4   Color       1964 non-null   object\n",
      " 5   Price       1964 non-null   object\n",
      " 6   Motor       1953 non-null   object\n",
      " 7   Body        1964 non-null   object\n",
      " 8   Structure   1927 non-null   object\n",
      " 9   Insurance   1964 non-null   object\n",
      "dtypes: int64(1), object(9)\n",
      "memory usage: 168.8+ KB\n"
     ]
    }
   ],
   "source": [
    "df.info()"
   ]
  },
  {
   "cell_type": "code",
   "execution_count": 301,
   "id": "46826e82",
   "metadata": {},
   "outputs": [],
   "source": [
    "df['Motor'] = df['Motor'].fillna(df['Motor'].mode()[0])\n",
    "df['Structure'] = df['Structure'].fillna(df['Structure'].mode()[0])"
   ]
  },
  {
   "cell_type": "code",
   "execution_count": 302,
   "id": "90ed606e",
   "metadata": {},
   "outputs": [
    {
     "name": "stdout",
     "output_type": "stream",
     "text": [
      "<class 'pandas.core.frame.DataFrame'>\n",
      "Int64Index: 1964 entries, 0 to 2096\n",
      "Data columns (total 10 columns):\n",
      " #   Column      Non-Null Count  Dtype \n",
      "---  ------      --------------  ----- \n",
      " 0   Unnamed: 0  1964 non-null   int64 \n",
      " 1   Token       1964 non-null   object\n",
      " 2   Distance    1964 non-null   object\n",
      " 3   Model       1964 non-null   object\n",
      " 4   Color       1964 non-null   object\n",
      " 5   Price       1964 non-null   object\n",
      " 6   Motor       1964 non-null   object\n",
      " 7   Body        1964 non-null   object\n",
      " 8   Structure   1964 non-null   object\n",
      " 9   Insurance   1964 non-null   object\n",
      "dtypes: int64(1), object(9)\n",
      "memory usage: 168.8+ KB\n"
     ]
    }
   ],
   "source": [
    "df.info()"
   ]
  },
  {
   "cell_type": "markdown",
   "id": "dfb33580",
   "metadata": {},
   "source": [
    "## Convert Data Format"
   ]
  },
  {
   "cell_type": "code",
   "execution_count": 303,
   "id": "077c7543",
   "metadata": {},
   "outputs": [],
   "source": [
    "from unidecode import unidecode"
   ]
  },
  {
   "cell_type": "markdown",
   "id": "1b415d81",
   "metadata": {},
   "source": [
    "### Distance"
   ]
  },
  {
   "cell_type": "code",
   "execution_count": 304,
   "id": "33a91665",
   "metadata": {},
   "outputs": [
    {
     "data": {
      "text/plain": [
       "0     ۸۳٬۰۰۰\n",
       "1    ۱۶۰٬۰۰۰\n",
       "2    ۱۶۰٬۰۰۰\n",
       "4    ۲۵۰٬۰۰۰\n",
       "5    ۱۳۰٬۰۰۰\n",
       "Name: Distance, dtype: object"
      ]
     },
     "execution_count": 304,
     "metadata": {},
     "output_type": "execute_result"
    }
   ],
   "source": [
    "df['Distance'].head()"
   ]
  },
  {
   "cell_type": "code",
   "execution_count": 305,
   "id": "88f63364",
   "metadata": {},
   "outputs": [],
   "source": [
    "df['Distance'] = df['Distance'].apply(lambda row: int(unidecode(row).replace(\",\",'')))"
   ]
  },
  {
   "cell_type": "code",
   "execution_count": 306,
   "id": "e59ddfb6",
   "metadata": {},
   "outputs": [
    {
     "data": {
      "text/plain": [
       "0     83000\n",
       "1    160000\n",
       "2    160000\n",
       "4    250000\n",
       "5    130000\n",
       "Name: Distance, dtype: int64"
      ]
     },
     "execution_count": 306,
     "metadata": {},
     "output_type": "execute_result"
    }
   ],
   "source": [
    "df['Distance'].head()"
   ]
  },
  {
   "cell_type": "markdown",
   "id": "df6ef26c",
   "metadata": {},
   "source": [
    "### Model"
   ]
  },
  {
   "cell_type": "code",
   "execution_count": 307,
   "id": "f7947617",
   "metadata": {},
   "outputs": [
    {
     "data": {
      "text/plain": [
       "0    ۱۳۹۷\n",
       "1    ۱۳۸۸\n",
       "2    ۱۳۹۶\n",
       "4    ۱۳۸۳\n",
       "5    ۱۳۹۶\n",
       "Name: Model, dtype: object"
      ]
     },
     "execution_count": 307,
     "metadata": {},
     "output_type": "execute_result"
    }
   ],
   "source": [
    "df['Model'].head()"
   ]
  },
  {
   "cell_type": "code",
   "execution_count": 308,
   "id": "ae5ed12f",
   "metadata": {},
   "outputs": [],
   "source": [
    "df['Model'] = df['Model'].apply(lambda row: int(unidecode(row)))"
   ]
  },
  {
   "cell_type": "code",
   "execution_count": 309,
   "id": "01f6d927",
   "metadata": {},
   "outputs": [
    {
     "data": {
      "text/plain": [
       "0    1397\n",
       "1    1388\n",
       "2    1396\n",
       "4    1383\n",
       "5    1396\n",
       "Name: Model, dtype: int64"
      ]
     },
     "execution_count": 309,
     "metadata": {},
     "output_type": "execute_result"
    }
   ],
   "source": [
    "df['Model'].head()"
   ]
  },
  {
   "cell_type": "markdown",
   "id": "ce7445b6",
   "metadata": {},
   "source": [
    "### Color"
   ]
  },
  {
   "cell_type": "code",
   "execution_count": 310,
   "id": "28793ae4",
   "metadata": {},
   "outputs": [
    {
     "data": {
      "text/plain": [
       "سفید          1011\n",
       "نقره‌ای        256\n",
       "خاکستری        247\n",
       "مشکی           111\n",
       "نوک‌مدادی       81\n",
       "سفید صدفی       52\n",
       "بژ              43\n",
       "یشمی            32\n",
       "آلبالویی        23\n",
       "قرمز            20\n",
       "آبی             19\n",
       "نقرآبی          11\n",
       "قهوه‌ای          8\n",
       "دلفینی           8\n",
       "مسی              8\n",
       "گیلاسی           8\n",
       "بادمجانی         7\n",
       "سرمه‌ای          6\n",
       "طوسی             3\n",
       "تیتانیوم         2\n",
       "ذغالی            2\n",
       "سبز              2\n",
       "نارنجی           2\n",
       "پوست‌پیازی       2\n",
       "Name: Color, dtype: int64"
      ]
     },
     "execution_count": 310,
     "metadata": {},
     "output_type": "execute_result"
    }
   ],
   "source": [
    "df['Color'].value_counts()"
   ]
  },
  {
   "cell_type": "code",
   "execution_count": 311,
   "id": "a428f88c",
   "metadata": {},
   "outputs": [],
   "source": [
    "df['Color'] = df['Color'].apply(lambda row: row.strip())"
   ]
  },
  {
   "cell_type": "code",
   "execution_count": 312,
   "id": "40244f33",
   "metadata": {},
   "outputs": [
    {
     "data": {
      "text/plain": [
       "سفید          1011\n",
       "نقره‌ای        256\n",
       "خاکستری        247\n",
       "مشکی           111\n",
       "نوک‌مدادی       81\n",
       "سفید صدفی       52\n",
       "بژ              43\n",
       "یشمی            32\n",
       "آلبالویی        23\n",
       "قرمز            20\n",
       "آبی             19\n",
       "نقرآبی          11\n",
       "قهوه‌ای          8\n",
       "دلفینی           8\n",
       "مسی              8\n",
       "گیلاسی           8\n",
       "بادمجانی         7\n",
       "سرمه‌ای          6\n",
       "طوسی             3\n",
       "تیتانیوم         2\n",
       "ذغالی            2\n",
       "سبز              2\n",
       "نارنجی           2\n",
       "پوست‌پیازی       2\n",
       "Name: Color, dtype: int64"
      ]
     },
     "execution_count": 312,
     "metadata": {},
     "output_type": "execute_result"
    }
   ],
   "source": [
    "df['Color'].value_counts()"
   ]
  },
  {
   "cell_type": "markdown",
   "id": "e12cc533",
   "metadata": {},
   "source": [
    "### Price "
   ]
  },
  {
   "cell_type": "code",
   "execution_count": 313,
   "id": "bab17da6",
   "metadata": {},
   "outputs": [
    {
     "data": {
      "text/plain": [
       "0    ۳۸۸٬۰۰۰٬۰۰۰ تومان\n",
       "1    ۲۷۵٬۰۰۰٬۰۰۰ تومان\n",
       "2    ۳۵۰٬۰۰۰٬۰۰۰ تومان\n",
       "4    ۱۸۵٬۰۰۰٬۰۰۰ تومان\n",
       "5    ۳۷۰٬۰۰۰٬۰۰۰ تومان\n",
       "Name: Price, dtype: object"
      ]
     },
     "execution_count": 313,
     "metadata": {},
     "output_type": "execute_result"
    }
   ],
   "source": [
    "df['Price'].head()"
   ]
  },
  {
   "cell_type": "code",
   "execution_count": 314,
   "id": "a23d5085",
   "metadata": {},
   "outputs": [],
   "source": [
    "df['Price'] = df['Price'].apply(lambda row: int(unidecode(row.split(\" \")[0]).replace(\",\",'')))"
   ]
  },
  {
   "cell_type": "code",
   "execution_count": 315,
   "id": "055b50c1",
   "metadata": {},
   "outputs": [
    {
     "data": {
      "text/plain": [
       "0    388000000\n",
       "1    275000000\n",
       "2    350000000\n",
       "4    185000000\n",
       "5    370000000\n",
       "Name: Price, dtype: int64"
      ]
     },
     "execution_count": 315,
     "metadata": {},
     "output_type": "execute_result"
    }
   ],
   "source": [
    "df['Price'].head()"
   ]
  },
  {
   "cell_type": "markdown",
   "id": "50645686",
   "metadata": {},
   "source": [
    "### Motor"
   ]
  },
  {
   "cell_type": "code",
   "execution_count": 316,
   "id": "e3908ec8",
   "metadata": {},
   "outputs": [
    {
     "data": {
      "text/plain": [
       "سالم             1927\n",
       "تعویض شده          21\n",
       "نیاز به تعمیر      16\n",
       "Name: Motor, dtype: int64"
      ]
     },
     "execution_count": 316,
     "metadata": {},
     "output_type": "execute_result"
    }
   ],
   "source": [
    "df['Motor'].value_counts()"
   ]
  },
  {
   "cell_type": "code",
   "execution_count": 317,
   "id": "47081c6c",
   "metadata": {},
   "outputs": [],
   "source": [
    "df['Motor'] = df['Motor'].apply(lambda row: row.strip())"
   ]
  },
  {
   "cell_type": "code",
   "execution_count": 318,
   "id": "abdc477a",
   "metadata": {},
   "outputs": [],
   "source": [
    "df['Motor'] = df['Motor'].apply(lambda row: 'Health' if 'سالم' in row else (\"Changed\" if 'تعویض' in row else 'Need_Fix') )"
   ]
  },
  {
   "cell_type": "code",
   "execution_count": 319,
   "id": "bf65be4f",
   "metadata": {},
   "outputs": [
    {
     "data": {
      "text/plain": [
       "Health      1927\n",
       "Changed       21\n",
       "Need_Fix      16\n",
       "Name: Motor, dtype: int64"
      ]
     },
     "execution_count": 319,
     "metadata": {},
     "output_type": "execute_result"
    }
   ],
   "source": [
    "df['Motor'].value_counts()"
   ]
  },
  {
   "cell_type": "markdown",
   "id": "5c8e9385",
   "metadata": {},
   "source": [
    "### Body"
   ]
  },
  {
   "cell_type": "code",
   "execution_count": 196,
   "id": "42a082b4",
   "metadata": {},
   "outputs": [
    {
     "data": {
      "text/plain": [
       "سالم و بی‌خط و خش       719\n",
       "خط و خش جزیی            432\n",
       "رنگ‌شدگی                413\n",
       "دوررنگ                  257\n",
       "صافکاری بی‌رنگ           53\n",
       "تمام‌رنگ                 47\n",
       "رنگ‌شدگی، در ۲ ناحیه     18\n",
       "رنگ‌شدگی، در ۱ ناحیه     13\n",
       "تصادفی                   12\n",
       "Name: Body, dtype: int64"
      ]
     },
     "execution_count": 196,
     "metadata": {},
     "output_type": "execute_result"
    }
   ],
   "source": [
    "df['Body'].value_counts()"
   ]
  },
  {
   "cell_type": "code",
   "execution_count": 197,
   "id": "591bc829",
   "metadata": {},
   "outputs": [],
   "source": [
    "def encode_body_values(state):\n",
    "    if 'سالم' in state:\n",
    "        return 7\n",
    "    elif 'خط' in state:\n",
    "        return 6\n",
    "    elif 'صافکاری' in state:\n",
    "        return 5 \n",
    "    elif 'شدگی' in state:\n",
    "        return 4\n",
    "    elif 'دوررنگ' in state:\n",
    "        return 3\n",
    "    elif 'تمام' in state:\n",
    "        return 2\n",
    "    elif 'تصادفی':\n",
    "        return 1"
   ]
  },
  {
   "cell_type": "code",
   "execution_count": 320,
   "id": "89c3bf58",
   "metadata": {},
   "outputs": [],
   "source": [
    "df['Body'] = df['Body'].apply(lambda row:encode_body_values(row))"
   ]
  },
  {
   "cell_type": "code",
   "execution_count": 321,
   "id": "217c934f",
   "metadata": {},
   "outputs": [
    {
     "data": {
      "text/plain": [
       "7    719\n",
       "4    444\n",
       "6    432\n",
       "3    257\n",
       "5     53\n",
       "2     47\n",
       "1     12\n",
       "Name: Body, dtype: int64"
      ]
     },
     "execution_count": 321,
     "metadata": {},
     "output_type": "execute_result"
    }
   ],
   "source": [
    "df['Body'].value_counts()"
   ]
  },
  {
   "cell_type": "markdown",
   "id": "8b53ecce",
   "metadata": {},
   "source": [
    "### Structure   "
   ]
  },
  {
   "cell_type": "code",
   "execution_count": 322,
   "id": "50d9bee0",
   "metadata": {},
   "outputs": [
    {
     "data": {
      "text/plain": [
       "سالم و پلمپ    1924\n",
       "ضربه‌خورده       38\n",
       "رنگ‌شده           2\n",
       "Name: Structure, dtype: int64"
      ]
     },
     "execution_count": 322,
     "metadata": {},
     "output_type": "execute_result"
    }
   ],
   "source": [
    "df['Structure'].value_counts()"
   ]
  },
  {
   "cell_type": "code",
   "execution_count": 323,
   "id": "10afe8d6",
   "metadata": {},
   "outputs": [],
   "source": [
    "df['Structure'] = df['Structure'].apply(lambda row: row.strip())"
   ]
  },
  {
   "cell_type": "markdown",
   "id": "43610b29",
   "metadata": {},
   "source": [
    "### Insurance"
   ]
  },
  {
   "cell_type": "code",
   "execution_count": 324,
   "id": "f5e15973",
   "metadata": {},
   "outputs": [
    {
     "data": {
      "text/plain": [
       "۶ ماه     321\n",
       "۱۲ ماه    230\n",
       "۹ ماه     217\n",
       "۱۰ ماه    187\n",
       "۸ ماه     164\n",
       "۴ ماه     147\n",
       "۳ ماه     146\n",
       "۵ ماه     134\n",
       "۷ ماه     133\n",
       "۱۱ ماه    118\n",
       "۱ ماه      88\n",
       "۲ ماه      79\n",
       "Name: Insurance, dtype: int64"
      ]
     },
     "execution_count": 324,
     "metadata": {},
     "output_type": "execute_result"
    }
   ],
   "source": [
    "df['Insurance'].value_counts()"
   ]
  },
  {
   "cell_type": "code",
   "execution_count": 325,
   "id": "9198edb5",
   "metadata": {},
   "outputs": [],
   "source": [
    "df['Insurance'] = df['Insurance'].apply(lambda row: int(unidecode(row.split(\" \")[0])))"
   ]
  },
  {
   "cell_type": "code",
   "execution_count": 326,
   "id": "903a6647",
   "metadata": {},
   "outputs": [
    {
     "data": {
      "text/plain": [
       "6     321\n",
       "12    230\n",
       "9     217\n",
       "10    187\n",
       "8     164\n",
       "4     147\n",
       "3     146\n",
       "5     134\n",
       "7     133\n",
       "11    118\n",
       "1      88\n",
       "2      79\n",
       "Name: Insurance, dtype: int64"
      ]
     },
     "execution_count": 326,
     "metadata": {},
     "output_type": "execute_result"
    }
   ],
   "source": [
    "df['Insurance'].value_counts()"
   ]
  },
  {
   "cell_type": "markdown",
   "id": "b9dc4738",
   "metadata": {},
   "source": [
    "### Remove Extra Columns"
   ]
  },
  {
   "cell_type": "code",
   "execution_count": 327,
   "id": "b7319d3a",
   "metadata": {},
   "outputs": [],
   "source": [
    "df2 = df.drop(columns=['Token'])"
   ]
  },
  {
   "cell_type": "code",
   "execution_count": 328,
   "id": "46c6efc0",
   "metadata": {},
   "outputs": [],
   "source": [
    "df2 = df2.drop(columns=[df.columns[0]])"
   ]
  },
  {
   "cell_type": "markdown",
   "id": "26af2301",
   "metadata": {},
   "source": [
    "## Data Visualization"
   ]
  },
  {
   "cell_type": "code",
   "execution_count": 336,
   "id": "08d4ebce",
   "metadata": {},
   "outputs": [],
   "source": [
    "import seaborn as sns"
   ]
  },
  {
   "cell_type": "code",
   "execution_count": 329,
   "id": "beec1893",
   "metadata": {},
   "outputs": [
    {
     "data": {
      "text/html": [
       "<div>\n",
       "<style scoped>\n",
       "    .dataframe tbody tr th:only-of-type {\n",
       "        vertical-align: middle;\n",
       "    }\n",
       "\n",
       "    .dataframe tbody tr th {\n",
       "        vertical-align: top;\n",
       "    }\n",
       "\n",
       "    .dataframe thead th {\n",
       "        text-align: right;\n",
       "    }\n",
       "</style>\n",
       "<table border=\"1\" class=\"dataframe\">\n",
       "  <thead>\n",
       "    <tr style=\"text-align: right;\">\n",
       "      <th></th>\n",
       "      <th>Distance</th>\n",
       "      <th>Model</th>\n",
       "      <th>Color</th>\n",
       "      <th>Price</th>\n",
       "      <th>Motor</th>\n",
       "      <th>Body</th>\n",
       "      <th>Structure</th>\n",
       "      <th>Insurance</th>\n",
       "    </tr>\n",
       "  </thead>\n",
       "  <tbody>\n",
       "    <tr>\n",
       "      <th>0</th>\n",
       "      <td>83000</td>\n",
       "      <td>1397</td>\n",
       "      <td>خاکستری</td>\n",
       "      <td>388000000</td>\n",
       "      <td>Health</td>\n",
       "      <td>4</td>\n",
       "      <td>سالم و پلمپ</td>\n",
       "      <td>11</td>\n",
       "    </tr>\n",
       "    <tr>\n",
       "      <th>1</th>\n",
       "      <td>160000</td>\n",
       "      <td>1388</td>\n",
       "      <td>سفید</td>\n",
       "      <td>275000000</td>\n",
       "      <td>Health</td>\n",
       "      <td>3</td>\n",
       "      <td>سالم و پلمپ</td>\n",
       "      <td>6</td>\n",
       "    </tr>\n",
       "    <tr>\n",
       "      <th>2</th>\n",
       "      <td>160000</td>\n",
       "      <td>1396</td>\n",
       "      <td>سفید</td>\n",
       "      <td>350000000</td>\n",
       "      <td>Health</td>\n",
       "      <td>6</td>\n",
       "      <td>سالم و پلمپ</td>\n",
       "      <td>12</td>\n",
       "    </tr>\n",
       "    <tr>\n",
       "      <th>4</th>\n",
       "      <td>250000</td>\n",
       "      <td>1383</td>\n",
       "      <td>تیتانیوم</td>\n",
       "      <td>185000000</td>\n",
       "      <td>Health</td>\n",
       "      <td>7</td>\n",
       "      <td>سالم و پلمپ</td>\n",
       "      <td>8</td>\n",
       "    </tr>\n",
       "    <tr>\n",
       "      <th>5</th>\n",
       "      <td>130000</td>\n",
       "      <td>1396</td>\n",
       "      <td>مشکی</td>\n",
       "      <td>370000000</td>\n",
       "      <td>Health</td>\n",
       "      <td>4</td>\n",
       "      <td>سالم و پلمپ</td>\n",
       "      <td>6</td>\n",
       "    </tr>\n",
       "  </tbody>\n",
       "</table>\n",
       "</div>"
      ],
      "text/plain": [
       "   Distance  Model     Color      Price   Motor  Body    Structure  Insurance\n",
       "0     83000   1397   خاکستری  388000000  Health     4  سالم و پلمپ         11\n",
       "1    160000   1388      سفید  275000000  Health     3  سالم و پلمپ          6\n",
       "2    160000   1396      سفید  350000000  Health     6  سالم و پلمپ         12\n",
       "4    250000   1383  تیتانیوم  185000000  Health     7  سالم و پلمپ          8\n",
       "5    130000   1396      مشکی  370000000  Health     4  سالم و پلمپ          6"
      ]
     },
     "execution_count": 329,
     "metadata": {},
     "output_type": "execute_result"
    }
   ],
   "source": [
    "df2.head()"
   ]
  },
  {
   "cell_type": "code",
   "execution_count": 330,
   "id": "d64013df",
   "metadata": {},
   "outputs": [
    {
     "data": {
      "text/html": [
       "<div>\n",
       "<style scoped>\n",
       "    .dataframe tbody tr th:only-of-type {\n",
       "        vertical-align: middle;\n",
       "    }\n",
       "\n",
       "    .dataframe tbody tr th {\n",
       "        vertical-align: top;\n",
       "    }\n",
       "\n",
       "    .dataframe thead th {\n",
       "        text-align: right;\n",
       "    }\n",
       "</style>\n",
       "<table border=\"1\" class=\"dataframe\">\n",
       "  <thead>\n",
       "    <tr style=\"text-align: right;\">\n",
       "      <th></th>\n",
       "      <th>Distance</th>\n",
       "      <th>Model</th>\n",
       "      <th>Price</th>\n",
       "      <th>Body</th>\n",
       "      <th>Insurance</th>\n",
       "    </tr>\n",
       "  </thead>\n",
       "  <tbody>\n",
       "    <tr>\n",
       "      <th>count</th>\n",
       "      <td>1964.000000</td>\n",
       "      <td>1964.000000</td>\n",
       "      <td>1.964000e+03</td>\n",
       "      <td>1964.000000</td>\n",
       "      <td>1964.000000</td>\n",
       "    </tr>\n",
       "    <tr>\n",
       "      <th>mean</th>\n",
       "      <td>171060.589613</td>\n",
       "      <td>1391.707739</td>\n",
       "      <td>3.262409e+08</td>\n",
       "      <td>5.368126</td>\n",
       "      <td>7.124236</td>\n",
       "    </tr>\n",
       "    <tr>\n",
       "      <th>std</th>\n",
       "      <td>119901.822619</td>\n",
       "      <td>15.310877</td>\n",
       "      <td>3.787221e+08</td>\n",
       "      <td>1.616403</td>\n",
       "      <td>3.190479</td>\n",
       "    </tr>\n",
       "    <tr>\n",
       "      <th>min</th>\n",
       "      <td>0.000000</td>\n",
       "      <td>1380.000000</td>\n",
       "      <td>1.000000e+07</td>\n",
       "      <td>1.000000</td>\n",
       "      <td>1.000000</td>\n",
       "    </tr>\n",
       "    <tr>\n",
       "      <th>25%</th>\n",
       "      <td>68000.000000</td>\n",
       "      <td>1385.000000</td>\n",
       "      <td>2.250000e+08</td>\n",
       "      <td>4.000000</td>\n",
       "      <td>5.000000</td>\n",
       "    </tr>\n",
       "    <tr>\n",
       "      <th>50%</th>\n",
       "      <td>160000.000000</td>\n",
       "      <td>1390.000000</td>\n",
       "      <td>3.000000e+08</td>\n",
       "      <td>6.000000</td>\n",
       "      <td>7.000000</td>\n",
       "    </tr>\n",
       "    <tr>\n",
       "      <th>75%</th>\n",
       "      <td>254250.000000</td>\n",
       "      <td>1398.000000</td>\n",
       "      <td>4.000000e+08</td>\n",
       "      <td>7.000000</td>\n",
       "      <td>10.000000</td>\n",
       "    </tr>\n",
       "    <tr>\n",
       "      <th>max</th>\n",
       "      <td>500000.000000</td>\n",
       "      <td>2005.000000</td>\n",
       "      <td>1.111111e+10</td>\n",
       "      <td>7.000000</td>\n",
       "      <td>12.000000</td>\n",
       "    </tr>\n",
       "  </tbody>\n",
       "</table>\n",
       "</div>"
      ],
      "text/plain": [
       "            Distance        Model         Price         Body    Insurance\n",
       "count    1964.000000  1964.000000  1.964000e+03  1964.000000  1964.000000\n",
       "mean   171060.589613  1391.707739  3.262409e+08     5.368126     7.124236\n",
       "std    119901.822619    15.310877  3.787221e+08     1.616403     3.190479\n",
       "min         0.000000  1380.000000  1.000000e+07     1.000000     1.000000\n",
       "25%     68000.000000  1385.000000  2.250000e+08     4.000000     5.000000\n",
       "50%    160000.000000  1390.000000  3.000000e+08     6.000000     7.000000\n",
       "75%    254250.000000  1398.000000  4.000000e+08     7.000000    10.000000\n",
       "max    500000.000000  2005.000000  1.111111e+10     7.000000    12.000000"
      ]
     },
     "execution_count": 330,
     "metadata": {},
     "output_type": "execute_result"
    }
   ],
   "source": [
    "df2.describe()"
   ]
  },
  {
   "cell_type": "markdown",
   "id": "cade484f",
   "metadata": {},
   "source": [
    "### Distance vs Price"
   ]
  },
  {
   "cell_type": "code",
   "execution_count": 331,
   "id": "4851de24",
   "metadata": {},
   "outputs": [
    {
     "data": {
      "text/plain": [
       "(692303888.7450035, 111111111.0)"
      ]
     },
     "execution_count": 331,
     "metadata": {},
     "output_type": "execute_result"
    }
   ],
   "source": [
    "max_outlier_bound, min_outlier_bound = df2['Price'].quantile(0.9965), df2['Price'].quantile(0.02)\n",
    "max_outlier_bound, min_outlier_bound"
   ]
  },
  {
   "cell_type": "code",
   "execution_count": 332,
   "id": "d2f25aa6",
   "metadata": {},
   "outputs": [],
   "source": [
    "df2 = df2[df2['Price'] < max_outlier_bound]"
   ]
  },
  {
   "cell_type": "code",
   "execution_count": 333,
   "id": "38f6166f",
   "metadata": {},
   "outputs": [],
   "source": [
    "df2 = df2[df2['Price'] > min_outlier_bound]"
   ]
  },
  {
   "cell_type": "code",
   "execution_count": 334,
   "id": "6eb7dcf4",
   "metadata": {},
   "outputs": [
    {
     "data": {
      "image/png": "[encoded data removed]",
      "text/plain": [
       "<Figure size 640x480 with 1 Axes>"
      ]
     },
     "metadata": {},
     "output_type": "display_data"
    }
   ],
   "source": [
    "plt.scatter(df2['Distance'], df2[\"Price\"], alpha=0.1)\n",
    "plt.xlabel(\"Distance\")\n",
    "plt.ylabel(\"Distance\")\n",
    "plt.title(\"Price vs Distance\");"
   ]
  },
  {
   "cell_type": "markdown",
   "id": "a9e6f82c",
   "metadata": {},
   "source": [
    "### Color vs Price"
   ]
  },
  {
   "cell_type": "code",
   "execution_count": 371,
   "id": "4da9eaaa",
   "metadata": {},
   "outputs": [
    {
     "data": {
      "image/png": "[encoded data removed]",
      "text/plain": [
       "<Figure size 750x500 with 1 Axes>"
      ]
     },
     "metadata": {},
     "output_type": "display_data"
    }
   ],
   "source": [
    "sns.catplot( data=df2, x='Color', y='Price', kind='bar', aspect = 1.5, height=5)\n",
    "plt.xticks(rotation=90);"
   ]
  },
  {
   "cell_type": "markdown",
   "id": "6bd5ce9b",
   "metadata": {},
   "source": [
    "### Model vs Price"
   ]
  },
  {
   "cell_type": "code",
   "execution_count": 384,
   "id": "07e4e366",
   "metadata": {},
   "outputs": [],
   "source": [
    "df2['Model']= df2['Model'].apply(lambda row: 1384 if row == 2005 else row)"
   ]
  },
  {
   "cell_type": "code",
   "execution_count": 395,
   "id": "f60e1ab7",
   "metadata": {},
   "outputs": [
    {
     "data": {
      "image/png": "[encoded data removed]",
      "text/plain": [
       "<Figure size 750x500 with 1 Axes>"
      ]
     },
     "metadata": {},
     "output_type": "display_data"
    }
   ],
   "source": [
    "sns.catplot( data=df2, x='Model', y='Price', kind='bar', aspect = 1.5, height=5)\n",
    "plt.xticks(rotation=90);"
   ]
  },
  {
   "cell_type": "markdown",
   "id": "5bae833e",
   "metadata": {},
   "source": [
    "### Body vs Price"
   ]
  },
  {
   "cell_type": "code",
   "execution_count": 393,
   "id": "4a042733",
   "metadata": {},
   "outputs": [
    {
     "data": {
      "image/png": "[encoded data removed]",
      "text/plain": [
       "<Figure size 525x300 with 1 Axes>"
      ]
     },
     "metadata": {},
     "output_type": "display_data"
    }
   ],
   "source": [
    "sns.catplot( data=df2, x='Body', y='Price', kind='bar', aspect = 1.75, height=3)\n",
    "plt.xticks(rotation=90);"
   ]
  },
  {
   "cell_type": "markdown",
   "id": "8ca946d7",
   "metadata": {},
   "source": [
    "### Structure vs Price"
   ]
  },
  {
   "cell_type": "code",
   "execution_count": 398,
   "id": "59e59f73",
   "metadata": {},
   "outputs": [
    {
     "data": {
      "image/png": "[encoded data removed]",
      "text/plain": [
       "<Figure size 525x300 with 1 Axes>"
      ]
     },
     "metadata": {},
     "output_type": "display_data"
    }
   ],
   "source": [
    "sns.catplot( data=df2, x='Structure', y='Price', kind='bar', aspect = 1.75, height=3)\n",
    "plt.xticks(rotation=30);"
   ]
  },
  {
   "cell_type": "code",
   "execution_count": 482,
   "id": "0615e24b",
   "metadata": {},
   "outputs": [
    {
     "data": {
      "text/plain": [
       "<AxesSubplot:>"
      ]
     },
     "execution_count": 482,
     "metadata": {},
     "output_type": "execute_result"
    },
    {
     "data": {
      "image/png": "[encoded data removed]",
      "text/plain": [
       "<Figure size 640x480 with 2 Axes>"
      ]
     },
     "metadata": {},
     "output_type": "display_data"
    }
   ],
   "source": [
    "sns.heatmap(df2.corr(), annot=True)"
   ]
  },
  {
   "cell_type": "markdown",
   "id": "39022385",
   "metadata": {},
   "source": [
    "## Preprocessing"
   ]
  },
  {
   "cell_type": "code",
   "execution_count": 400,
   "id": "66811e79",
   "metadata": {},
   "outputs": [
    {
     "name": "stdout",
     "output_type": "stream",
     "text": [
      "<class 'pandas.core.frame.DataFrame'>\n",
      "Int64Index: 1912 entries, 0 to 2096\n",
      "Data columns (total 8 columns):\n",
      " #   Column     Non-Null Count  Dtype \n",
      "---  ------     --------------  ----- \n",
      " 0   Distance   1912 non-null   int64 \n",
      " 1   Model      1912 non-null   int64 \n",
      " 2   Color      1912 non-null   object\n",
      " 3   Price      1912 non-null   int64 \n",
      " 4   Motor      1912 non-null   object\n",
      " 5   Body       1912 non-null   int64 \n",
      " 6   Structure  1912 non-null   object\n",
      " 7   Insurance  1912 non-null   int64 \n",
      "dtypes: int64(5), object(3)\n",
      "memory usage: 134.4+ KB\n"
     ]
    }
   ],
   "source": [
    "df2.info()"
   ]
  },
  {
   "cell_type": "markdown",
   "id": "0e154132",
   "metadata": {},
   "source": [
    "### One Hot Encoding Color & Motor Columns"
   ]
  },
  {
   "cell_type": "code",
   "execution_count": 402,
   "id": "8705b83b",
   "metadata": {},
   "outputs": [],
   "source": [
    "df_encoded = pd.get_dummies(df2, columns = ['Color', 'Motor'])"
   ]
  },
  {
   "cell_type": "code",
   "execution_count": 403,
   "id": "5eadef25",
   "metadata": {},
   "outputs": [
    {
     "data": {
      "text/html": [
       "<div>\n",
       "<style scoped>\n",
       "    .dataframe tbody tr th:only-of-type {\n",
       "        vertical-align: middle;\n",
       "    }\n",
       "\n",
       "    .dataframe tbody tr th {\n",
       "        vertical-align: top;\n",
       "    }\n",
       "\n",
       "    .dataframe thead th {\n",
       "        text-align: right;\n",
       "    }\n",
       "</style>\n",
       "<table border=\"1\" class=\"dataframe\">\n",
       "  <thead>\n",
       "    <tr style=\"text-align: right;\">\n",
       "      <th></th>\n",
       "      <th>Distance</th>\n",
       "      <th>Model</th>\n",
       "      <th>Price</th>\n",
       "      <th>Body</th>\n",
       "      <th>Structure</th>\n",
       "      <th>Insurance</th>\n",
       "      <th>Color_آبی</th>\n",
       "      <th>Color_آلبالویی</th>\n",
       "      <th>Color_بادمجانی</th>\n",
       "      <th>Color_بژ</th>\n",
       "      <th>...</th>\n",
       "      <th>Color_نارنجی</th>\n",
       "      <th>Color_نقرآبی</th>\n",
       "      <th>Color_نقره‌ای</th>\n",
       "      <th>Color_نوک‌مدادی</th>\n",
       "      <th>Color_پوست‌پیازی</th>\n",
       "      <th>Color_گیلاسی</th>\n",
       "      <th>Color_یشمی</th>\n",
       "      <th>Motor_Changed</th>\n",
       "      <th>Motor_Health</th>\n",
       "      <th>Motor_Need_Fix</th>\n",
       "    </tr>\n",
       "  </thead>\n",
       "  <tbody>\n",
       "    <tr>\n",
       "      <th>0</th>\n",
       "      <td>83000</td>\n",
       "      <td>1397</td>\n",
       "      <td>388000000</td>\n",
       "      <td>4</td>\n",
       "      <td>سالم و پلمپ</td>\n",
       "      <td>11</td>\n",
       "      <td>0</td>\n",
       "      <td>0</td>\n",
       "      <td>0</td>\n",
       "      <td>0</td>\n",
       "      <td>...</td>\n",
       "      <td>0</td>\n",
       "      <td>0</td>\n",
       "      <td>0</td>\n",
       "      <td>0</td>\n",
       "      <td>0</td>\n",
       "      <td>0</td>\n",
       "      <td>0</td>\n",
       "      <td>0</td>\n",
       "      <td>1</td>\n",
       "      <td>0</td>\n",
       "    </tr>\n",
       "    <tr>\n",
       "      <th>1</th>\n",
       "      <td>160000</td>\n",
       "      <td>1388</td>\n",
       "      <td>275000000</td>\n",
       "      <td>3</td>\n",
       "      <td>سالم و پلمپ</td>\n",
       "      <td>6</td>\n",
       "      <td>0</td>\n",
       "      <td>0</td>\n",
       "      <td>0</td>\n",
       "      <td>0</td>\n",
       "      <td>...</td>\n",
       "      <td>0</td>\n",
       "      <td>0</td>\n",
       "      <td>0</td>\n",
       "      <td>0</td>\n",
       "      <td>0</td>\n",
       "      <td>0</td>\n",
       "      <td>0</td>\n",
       "      <td>0</td>\n",
       "      <td>1</td>\n",
       "      <td>0</td>\n",
       "    </tr>\n",
       "    <tr>\n",
       "      <th>2</th>\n",
       "      <td>160000</td>\n",
       "      <td>1396</td>\n",
       "      <td>350000000</td>\n",
       "      <td>6</td>\n",
       "      <td>سالم و پلمپ</td>\n",
       "      <td>12</td>\n",
       "      <td>0</td>\n",
       "      <td>0</td>\n",
       "      <td>0</td>\n",
       "      <td>0</td>\n",
       "      <td>...</td>\n",
       "      <td>0</td>\n",
       "      <td>0</td>\n",
       "      <td>0</td>\n",
       "      <td>0</td>\n",
       "      <td>0</td>\n",
       "      <td>0</td>\n",
       "      <td>0</td>\n",
       "      <td>0</td>\n",
       "      <td>1</td>\n",
       "      <td>0</td>\n",
       "    </tr>\n",
       "    <tr>\n",
       "      <th>4</th>\n",
       "      <td>250000</td>\n",
       "      <td>1383</td>\n",
       "      <td>185000000</td>\n",
       "      <td>7</td>\n",
       "      <td>سالم و پلمپ</td>\n",
       "      <td>8</td>\n",
       "      <td>0</td>\n",
       "      <td>0</td>\n",
       "      <td>0</td>\n",
       "      <td>0</td>\n",
       "      <td>...</td>\n",
       "      <td>0</td>\n",
       "      <td>0</td>\n",
       "      <td>0</td>\n",
       "      <td>0</td>\n",
       "      <td>0</td>\n",
       "      <td>0</td>\n",
       "      <td>0</td>\n",
       "      <td>0</td>\n",
       "      <td>1</td>\n",
       "      <td>0</td>\n",
       "    </tr>\n",
       "    <tr>\n",
       "      <th>5</th>\n",
       "      <td>130000</td>\n",
       "      <td>1396</td>\n",
       "      <td>370000000</td>\n",
       "      <td>4</td>\n",
       "      <td>سالم و پلمپ</td>\n",
       "      <td>6</td>\n",
       "      <td>0</td>\n",
       "      <td>0</td>\n",
       "      <td>0</td>\n",
       "      <td>0</td>\n",
       "      <td>...</td>\n",
       "      <td>0</td>\n",
       "      <td>0</td>\n",
       "      <td>0</td>\n",
       "      <td>0</td>\n",
       "      <td>0</td>\n",
       "      <td>0</td>\n",
       "      <td>0</td>\n",
       "      <td>0</td>\n",
       "      <td>1</td>\n",
       "      <td>0</td>\n",
       "    </tr>\n",
       "    <tr>\n",
       "      <th>...</th>\n",
       "      <td>...</td>\n",
       "      <td>...</td>\n",
       "      <td>...</td>\n",
       "      <td>...</td>\n",
       "      <td>...</td>\n",
       "      <td>...</td>\n",
       "      <td>...</td>\n",
       "      <td>...</td>\n",
       "      <td>...</td>\n",
       "      <td>...</td>\n",
       "      <td>...</td>\n",
       "      <td>...</td>\n",
       "      <td>...</td>\n",
       "      <td>...</td>\n",
       "      <td>...</td>\n",
       "      <td>...</td>\n",
       "      <td>...</td>\n",
       "      <td>...</td>\n",
       "      <td>...</td>\n",
       "      <td>...</td>\n",
       "      <td>...</td>\n",
       "    </tr>\n",
       "    <tr>\n",
       "      <th>2092</th>\n",
       "      <td>120000</td>\n",
       "      <td>1394</td>\n",
       "      <td>150000000</td>\n",
       "      <td>7</td>\n",
       "      <td>سالم و پلمپ</td>\n",
       "      <td>8</td>\n",
       "      <td>0</td>\n",
       "      <td>0</td>\n",
       "      <td>0</td>\n",
       "      <td>0</td>\n",
       "      <td>...</td>\n",
       "      <td>0</td>\n",
       "      <td>0</td>\n",
       "      <td>0</td>\n",
       "      <td>0</td>\n",
       "      <td>0</td>\n",
       "      <td>0</td>\n",
       "      <td>0</td>\n",
       "      <td>0</td>\n",
       "      <td>1</td>\n",
       "      <td>0</td>\n",
       "    </tr>\n",
       "    <tr>\n",
       "      <th>2093</th>\n",
       "      <td>300000</td>\n",
       "      <td>1381</td>\n",
       "      <td>155000000</td>\n",
       "      <td>4</td>\n",
       "      <td>سالم و پلمپ</td>\n",
       "      <td>9</td>\n",
       "      <td>0</td>\n",
       "      <td>0</td>\n",
       "      <td>0</td>\n",
       "      <td>0</td>\n",
       "      <td>...</td>\n",
       "      <td>0</td>\n",
       "      <td>0</td>\n",
       "      <td>0</td>\n",
       "      <td>0</td>\n",
       "      <td>0</td>\n",
       "      <td>0</td>\n",
       "      <td>0</td>\n",
       "      <td>0</td>\n",
       "      <td>1</td>\n",
       "      <td>0</td>\n",
       "    </tr>\n",
       "    <tr>\n",
       "      <th>2094</th>\n",
       "      <td>310000</td>\n",
       "      <td>1385</td>\n",
       "      <td>230000000</td>\n",
       "      <td>4</td>\n",
       "      <td>سالم و پلمپ</td>\n",
       "      <td>2</td>\n",
       "      <td>0</td>\n",
       "      <td>0</td>\n",
       "      <td>0</td>\n",
       "      <td>1</td>\n",
       "      <td>...</td>\n",
       "      <td>0</td>\n",
       "      <td>0</td>\n",
       "      <td>0</td>\n",
       "      <td>0</td>\n",
       "      <td>0</td>\n",
       "      <td>0</td>\n",
       "      <td>0</td>\n",
       "      <td>0</td>\n",
       "      <td>1</td>\n",
       "      <td>0</td>\n",
       "    </tr>\n",
       "    <tr>\n",
       "      <th>2095</th>\n",
       "      <td>74000</td>\n",
       "      <td>1398</td>\n",
       "      <td>348000000</td>\n",
       "      <td>4</td>\n",
       "      <td>سالم و پلمپ</td>\n",
       "      <td>6</td>\n",
       "      <td>0</td>\n",
       "      <td>0</td>\n",
       "      <td>0</td>\n",
       "      <td>0</td>\n",
       "      <td>...</td>\n",
       "      <td>0</td>\n",
       "      <td>0</td>\n",
       "      <td>0</td>\n",
       "      <td>0</td>\n",
       "      <td>0</td>\n",
       "      <td>0</td>\n",
       "      <td>0</td>\n",
       "      <td>0</td>\n",
       "      <td>1</td>\n",
       "      <td>0</td>\n",
       "    </tr>\n",
       "    <tr>\n",
       "      <th>2096</th>\n",
       "      <td>700</td>\n",
       "      <td>1400</td>\n",
       "      <td>490000000</td>\n",
       "      <td>7</td>\n",
       "      <td>سالم و پلمپ</td>\n",
       "      <td>3</td>\n",
       "      <td>0</td>\n",
       "      <td>0</td>\n",
       "      <td>0</td>\n",
       "      <td>0</td>\n",
       "      <td>...</td>\n",
       "      <td>0</td>\n",
       "      <td>0</td>\n",
       "      <td>0</td>\n",
       "      <td>0</td>\n",
       "      <td>0</td>\n",
       "      <td>0</td>\n",
       "      <td>0</td>\n",
       "      <td>0</td>\n",
       "      <td>1</td>\n",
       "      <td>0</td>\n",
       "    </tr>\n",
       "  </tbody>\n",
       "</table>\n",
       "<p>1912 rows × 33 columns</p>\n",
       "</div>"
      ],
      "text/plain": [
       "      Distance  Model      Price  Body    Structure  Insurance  Color_آبی  \\\n",
       "0        83000   1397  388000000     4  سالم و پلمپ         11          0   \n",
       "1       160000   1388  275000000     3  سالم و پلمپ          6          0   \n",
       "2       160000   1396  350000000     6  سالم و پلمپ         12          0   \n",
       "4       250000   1383  185000000     7  سالم و پلمپ          8          0   \n",
       "5       130000   1396  370000000     4  سالم و پلمپ          6          0   \n",
       "...        ...    ...        ...   ...          ...        ...        ...   \n",
       "2092    120000   1394  150000000     7  سالم و پلمپ          8          0   \n",
       "2093    300000   1381  155000000     4  سالم و پلمپ          9          0   \n",
       "2094    310000   1385  230000000     4  سالم و پلمپ          2          0   \n",
       "2095     74000   1398  348000000     4  سالم و پلمپ          6          0   \n",
       "2096       700   1400  490000000     7  سالم و پلمپ          3          0   \n",
       "\n",
       "      Color_آلبالویی  Color_بادمجانی  Color_بژ  ...  Color_نارنجی  \\\n",
       "0                  0               0         0  ...             0   \n",
       "1                  0               0         0  ...             0   \n",
       "2                  0               0         0  ...             0   \n",
       "4                  0               0         0  ...             0   \n",
       "5                  0               0         0  ...             0   \n",
       "...              ...             ...       ...  ...           ...   \n",
       "2092               0               0         0  ...             0   \n",
       "2093               0               0         0  ...             0   \n",
       "2094               0               0         1  ...             0   \n",
       "2095               0               0         0  ...             0   \n",
       "2096               0               0         0  ...             0   \n",
       "\n",
       "      Color_نقرآبی  Color_نقره‌ای  Color_نوک‌مدادی  Color_پوست‌پیازی  \\\n",
       "0                0              0                0                 0   \n",
       "1                0              0                0                 0   \n",
       "2                0              0                0                 0   \n",
       "4                0              0                0                 0   \n",
       "5                0              0                0                 0   \n",
       "...            ...            ...              ...               ...   \n",
       "2092             0              0                0                 0   \n",
       "2093             0              0                0                 0   \n",
       "2094             0              0                0                 0   \n",
       "2095             0              0                0                 0   \n",
       "2096             0              0                0                 0   \n",
       "\n",
       "      Color_گیلاسی  Color_یشمی  Motor_Changed  Motor_Health  Motor_Need_Fix  \n",
       "0                0           0              0             1               0  \n",
       "1                0           0              0             1               0  \n",
       "2                0           0              0             1               0  \n",
       "4                0           0              0             1               0  \n",
       "5                0           0              0             1               0  \n",
       "...            ...         ...            ...           ...             ...  \n",
       "2092             0           0              0             1               0  \n",
       "2093             0           0              0             1               0  \n",
       "2094             0           0              0             1               0  \n",
       "2095             0           0              0             1               0  \n",
       "2096             0           0              0             1               0  \n",
       "\n",
       "[1912 rows x 33 columns]"
      ]
     },
     "execution_count": 403,
     "metadata": {},
     "output_type": "execute_result"
    }
   ],
   "source": [
    "df_encoded"
   ]
  },
  {
   "cell_type": "markdown",
   "id": "44d0cb90",
   "metadata": {},
   "source": [
    "### Ordinal Encoding Strucure Column"
   ]
  },
  {
   "cell_type": "code",
   "execution_count": 404,
   "id": "6c749b5e",
   "metadata": {},
   "outputs": [],
   "source": [
    "df_encoded['Structure'] = df_encoded['Structure'].apply(lambda row: 3 if 'سالم' in row else (2 if 'ضربه' in row else 1))"
   ]
  },
  {
   "cell_type": "code",
   "execution_count": 405,
   "id": "c391a95b",
   "metadata": {},
   "outputs": [
    {
     "data": {
      "text/html": [
       "<div>\n",
       "<style scoped>\n",
       "    .dataframe tbody tr th:only-of-type {\n",
       "        vertical-align: middle;\n",
       "    }\n",
       "\n",
       "    .dataframe tbody tr th {\n",
       "        vertical-align: top;\n",
       "    }\n",
       "\n",
       "    .dataframe thead th {\n",
       "        text-align: right;\n",
       "    }\n",
       "</style>\n",
       "<table border=\"1\" class=\"dataframe\">\n",
       "  <thead>\n",
       "    <tr style=\"text-align: right;\">\n",
       "      <th></th>\n",
       "      <th>Distance</th>\n",
       "      <th>Model</th>\n",
       "      <th>Price</th>\n",
       "      <th>Body</th>\n",
       "      <th>Structure</th>\n",
       "      <th>Insurance</th>\n",
       "      <th>Color_آبی</th>\n",
       "      <th>Color_آلبالویی</th>\n",
       "      <th>Color_بادمجانی</th>\n",
       "      <th>Color_بژ</th>\n",
       "      <th>...</th>\n",
       "      <th>Color_نارنجی</th>\n",
       "      <th>Color_نقرآبی</th>\n",
       "      <th>Color_نقره‌ای</th>\n",
       "      <th>Color_نوک‌مدادی</th>\n",
       "      <th>Color_پوست‌پیازی</th>\n",
       "      <th>Color_گیلاسی</th>\n",
       "      <th>Color_یشمی</th>\n",
       "      <th>Motor_Changed</th>\n",
       "      <th>Motor_Health</th>\n",
       "      <th>Motor_Need_Fix</th>\n",
       "    </tr>\n",
       "  </thead>\n",
       "  <tbody>\n",
       "    <tr>\n",
       "      <th>0</th>\n",
       "      <td>83000</td>\n",
       "      <td>1397</td>\n",
       "      <td>388000000</td>\n",
       "      <td>4</td>\n",
       "      <td>3</td>\n",
       "      <td>11</td>\n",
       "      <td>0</td>\n",
       "      <td>0</td>\n",
       "      <td>0</td>\n",
       "      <td>0</td>\n",
       "      <td>...</td>\n",
       "      <td>0</td>\n",
       "      <td>0</td>\n",
       "      <td>0</td>\n",
       "      <td>0</td>\n",
       "      <td>0</td>\n",
       "      <td>0</td>\n",
       "      <td>0</td>\n",
       "      <td>0</td>\n",
       "      <td>1</td>\n",
       "      <td>0</td>\n",
       "    </tr>\n",
       "    <tr>\n",
       "      <th>1</th>\n",
       "      <td>160000</td>\n",
       "      <td>1388</td>\n",
       "      <td>275000000</td>\n",
       "      <td>3</td>\n",
       "      <td>3</td>\n",
       "      <td>6</td>\n",
       "      <td>0</td>\n",
       "      <td>0</td>\n",
       "      <td>0</td>\n",
       "      <td>0</td>\n",
       "      <td>...</td>\n",
       "      <td>0</td>\n",
       "      <td>0</td>\n",
       "      <td>0</td>\n",
       "      <td>0</td>\n",
       "      <td>0</td>\n",
       "      <td>0</td>\n",
       "      <td>0</td>\n",
       "      <td>0</td>\n",
       "      <td>1</td>\n",
       "      <td>0</td>\n",
       "    </tr>\n",
       "    <tr>\n",
       "      <th>2</th>\n",
       "      <td>160000</td>\n",
       "      <td>1396</td>\n",
       "      <td>350000000</td>\n",
       "      <td>6</td>\n",
       "      <td>3</td>\n",
       "      <td>12</td>\n",
       "      <td>0</td>\n",
       "      <td>0</td>\n",
       "      <td>0</td>\n",
       "      <td>0</td>\n",
       "      <td>...</td>\n",
       "      <td>0</td>\n",
       "      <td>0</td>\n",
       "      <td>0</td>\n",
       "      <td>0</td>\n",
       "      <td>0</td>\n",
       "      <td>0</td>\n",
       "      <td>0</td>\n",
       "      <td>0</td>\n",
       "      <td>1</td>\n",
       "      <td>0</td>\n",
       "    </tr>\n",
       "    <tr>\n",
       "      <th>4</th>\n",
       "      <td>250000</td>\n",
       "      <td>1383</td>\n",
       "      <td>185000000</td>\n",
       "      <td>7</td>\n",
       "      <td>3</td>\n",
       "      <td>8</td>\n",
       "      <td>0</td>\n",
       "      <td>0</td>\n",
       "      <td>0</td>\n",
       "      <td>0</td>\n",
       "      <td>...</td>\n",
       "      <td>0</td>\n",
       "      <td>0</td>\n",
       "      <td>0</td>\n",
       "      <td>0</td>\n",
       "      <td>0</td>\n",
       "      <td>0</td>\n",
       "      <td>0</td>\n",
       "      <td>0</td>\n",
       "      <td>1</td>\n",
       "      <td>0</td>\n",
       "    </tr>\n",
       "    <tr>\n",
       "      <th>5</th>\n",
       "      <td>130000</td>\n",
       "      <td>1396</td>\n",
       "      <td>370000000</td>\n",
       "      <td>4</td>\n",
       "      <td>3</td>\n",
       "      <td>6</td>\n",
       "      <td>0</td>\n",
       "      <td>0</td>\n",
       "      <td>0</td>\n",
       "      <td>0</td>\n",
       "      <td>...</td>\n",
       "      <td>0</td>\n",
       "      <td>0</td>\n",
       "      <td>0</td>\n",
       "      <td>0</td>\n",
       "      <td>0</td>\n",
       "      <td>0</td>\n",
       "      <td>0</td>\n",
       "      <td>0</td>\n",
       "      <td>1</td>\n",
       "      <td>0</td>\n",
       "    </tr>\n",
       "    <tr>\n",
       "      <th>...</th>\n",
       "      <td>...</td>\n",
       "      <td>...</td>\n",
       "      <td>...</td>\n",
       "      <td>...</td>\n",
       "      <td>...</td>\n",
       "      <td>...</td>\n",
       "      <td>...</td>\n",
       "      <td>...</td>\n",
       "      <td>...</td>\n",
       "      <td>...</td>\n",
       "      <td>...</td>\n",
       "      <td>...</td>\n",
       "      <td>...</td>\n",
       "      <td>...</td>\n",
       "      <td>...</td>\n",
       "      <td>...</td>\n",
       "      <td>...</td>\n",
       "      <td>...</td>\n",
       "      <td>...</td>\n",
       "      <td>...</td>\n",
       "      <td>...</td>\n",
       "    </tr>\n",
       "    <tr>\n",
       "      <th>2092</th>\n",
       "      <td>120000</td>\n",
       "      <td>1394</td>\n",
       "      <td>150000000</td>\n",
       "      <td>7</td>\n",
       "      <td>3</td>\n",
       "      <td>8</td>\n",
       "      <td>0</td>\n",
       "      <td>0</td>\n",
       "      <td>0</td>\n",
       "      <td>0</td>\n",
       "      <td>...</td>\n",
       "      <td>0</td>\n",
       "      <td>0</td>\n",
       "      <td>0</td>\n",
       "      <td>0</td>\n",
       "      <td>0</td>\n",
       "      <td>0</td>\n",
       "      <td>0</td>\n",
       "      <td>0</td>\n",
       "      <td>1</td>\n",
       "      <td>0</td>\n",
       "    </tr>\n",
       "    <tr>\n",
       "      <th>2093</th>\n",
       "      <td>300000</td>\n",
       "      <td>1381</td>\n",
       "      <td>155000000</td>\n",
       "      <td>4</td>\n",
       "      <td>3</td>\n",
       "      <td>9</td>\n",
       "      <td>0</td>\n",
       "      <td>0</td>\n",
       "      <td>0</td>\n",
       "      <td>0</td>\n",
       "      <td>...</td>\n",
       "      <td>0</td>\n",
       "      <td>0</td>\n",
       "      <td>0</td>\n",
       "      <td>0</td>\n",
       "      <td>0</td>\n",
       "      <td>0</td>\n",
       "      <td>0</td>\n",
       "      <td>0</td>\n",
       "      <td>1</td>\n",
       "      <td>0</td>\n",
       "    </tr>\n",
       "    <tr>\n",
       "      <th>2094</th>\n",
       "      <td>310000</td>\n",
       "      <td>1385</td>\n",
       "      <td>230000000</td>\n",
       "      <td>4</td>\n",
       "      <td>3</td>\n",
       "      <td>2</td>\n",
       "      <td>0</td>\n",
       "      <td>0</td>\n",
       "      <td>0</td>\n",
       "      <td>1</td>\n",
       "      <td>...</td>\n",
       "      <td>0</td>\n",
       "      <td>0</td>\n",
       "      <td>0</td>\n",
       "      <td>0</td>\n",
       "      <td>0</td>\n",
       "      <td>0</td>\n",
       "      <td>0</td>\n",
       "      <td>0</td>\n",
       "      <td>1</td>\n",
       "      <td>0</td>\n",
       "    </tr>\n",
       "    <tr>\n",
       "      <th>2095</th>\n",
       "      <td>74000</td>\n",
       "      <td>1398</td>\n",
       "      <td>348000000</td>\n",
       "      <td>4</td>\n",
       "      <td>3</td>\n",
       "      <td>6</td>\n",
       "      <td>0</td>\n",
       "      <td>0</td>\n",
       "      <td>0</td>\n",
       "      <td>0</td>\n",
       "      <td>...</td>\n",
       "      <td>0</td>\n",
       "      <td>0</td>\n",
       "      <td>0</td>\n",
       "      <td>0</td>\n",
       "      <td>0</td>\n",
       "      <td>0</td>\n",
       "      <td>0</td>\n",
       "      <td>0</td>\n",
       "      <td>1</td>\n",
       "      <td>0</td>\n",
       "    </tr>\n",
       "    <tr>\n",
       "      <th>2096</th>\n",
       "      <td>700</td>\n",
       "      <td>1400</td>\n",
       "      <td>490000000</td>\n",
       "      <td>7</td>\n",
       "      <td>3</td>\n",
       "      <td>3</td>\n",
       "      <td>0</td>\n",
       "      <td>0</td>\n",
       "      <td>0</td>\n",
       "      <td>0</td>\n",
       "      <td>...</td>\n",
       "      <td>0</td>\n",
       "      <td>0</td>\n",
       "      <td>0</td>\n",
       "      <td>0</td>\n",
       "      <td>0</td>\n",
       "      <td>0</td>\n",
       "      <td>0</td>\n",
       "      <td>0</td>\n",
       "      <td>1</td>\n",
       "      <td>0</td>\n",
       "    </tr>\n",
       "  </tbody>\n",
       "</table>\n",
       "<p>1912 rows × 33 columns</p>\n",
       "</div>"
      ],
      "text/plain": [
       "      Distance  Model      Price  Body  Structure  Insurance  Color_آبی  \\\n",
       "0        83000   1397  388000000     4          3         11          0   \n",
       "1       160000   1388  275000000     3          3          6          0   \n",
       "2       160000   1396  350000000     6          3         12          0   \n",
       "4       250000   1383  185000000     7          3          8          0   \n",
       "5       130000   1396  370000000     4          3          6          0   \n",
       "...        ...    ...        ...   ...        ...        ...        ...   \n",
       "2092    120000   1394  150000000     7          3          8          0   \n",
       "2093    300000   1381  155000000     4          3          9          0   \n",
       "2094    310000   1385  230000000     4          3          2          0   \n",
       "2095     74000   1398  348000000     4          3          6          0   \n",
       "2096       700   1400  490000000     7          3          3          0   \n",
       "\n",
       "      Color_آلبالویی  Color_بادمجانی  Color_بژ  ...  Color_نارنجی  \\\n",
       "0                  0               0         0  ...             0   \n",
       "1                  0               0         0  ...             0   \n",
       "2                  0               0         0  ...             0   \n",
       "4                  0               0         0  ...             0   \n",
       "5                  0               0         0  ...             0   \n",
       "...              ...             ...       ...  ...           ...   \n",
       "2092               0               0         0  ...             0   \n",
       "2093               0               0         0  ...             0   \n",
       "2094               0               0         1  ...             0   \n",
       "2095               0               0         0  ...             0   \n",
       "2096               0               0         0  ...             0   \n",
       "\n",
       "      Color_نقرآبی  Color_نقره‌ای  Color_نوک‌مدادی  Color_پوست‌پیازی  \\\n",
       "0                0              0                0                 0   \n",
       "1                0              0                0                 0   \n",
       "2                0              0                0                 0   \n",
       "4                0              0                0                 0   \n",
       "5                0              0                0                 0   \n",
       "...            ...            ...              ...               ...   \n",
       "2092             0              0                0                 0   \n",
       "2093             0              0                0                 0   \n",
       "2094             0              0                0                 0   \n",
       "2095             0              0                0                 0   \n",
       "2096             0              0                0                 0   \n",
       "\n",
       "      Color_گیلاسی  Color_یشمی  Motor_Changed  Motor_Health  Motor_Need_Fix  \n",
       "0                0           0              0             1               0  \n",
       "1                0           0              0             1               0  \n",
       "2                0           0              0             1               0  \n",
       "4                0           0              0             1               0  \n",
       "5                0           0              0             1               0  \n",
       "...            ...         ...            ...           ...             ...  \n",
       "2092             0           0              0             1               0  \n",
       "2093             0           0              0             1               0  \n",
       "2094             0           0              0             1               0  \n",
       "2095             0           0              0             1               0  \n",
       "2096             0           0              0             1               0  \n",
       "\n",
       "[1912 rows x 33 columns]"
      ]
     },
     "execution_count": 405,
     "metadata": {},
     "output_type": "execute_result"
    }
   ],
   "source": [
    "df_encoded"
   ]
  },
  {
   "cell_type": "markdown",
   "id": "b0d013d8",
   "metadata": {},
   "source": [
    "### Train Test Split"
   ]
  },
  {
   "cell_type": "code",
   "execution_count": 408,
   "id": "6aad14b5",
   "metadata": {},
   "outputs": [],
   "source": [
    "from sklearn.model_selection import train_test_split\n",
    "from sklearn.preprocessing import StandardScaler"
   ]
  },
  {
   "cell_type": "code",
   "execution_count": 407,
   "id": "e4d52993",
   "metadata": {},
   "outputs": [],
   "source": [
    "X = df_encoded.drop(columns=['Price'])\n",
    "y = df_encoded['Price']"
   ]
  },
  {
   "cell_type": "code",
   "execution_count": 409,
   "id": "0c16e3b6",
   "metadata": {},
   "outputs": [],
   "source": [
    "X_train, X_test, y_train, y_test = train_test_split(X, y, test_size=0.3, random_state=42)"
   ]
  },
  {
   "cell_type": "markdown",
   "id": "12549c53",
   "metadata": {},
   "source": [
    "### Scaling Data"
   ]
  },
  {
   "cell_type": "code",
   "execution_count": 433,
   "id": "3b421cae",
   "metadata": {},
   "outputs": [],
   "source": [
    "scaler = StandardScaler()\n",
    "X_train = scaler.fit_transform(X_train)\n",
    "X_test = scaler.transform(X_test)"
   ]
  },
  {
   "cell_type": "code",
   "execution_count": null,
   "id": "97bd6b7a",
   "metadata": {},
   "outputs": [],
   "source": []
  },
  {
   "cell_type": "markdown",
   "id": "c333e61b",
   "metadata": {},
   "source": [
    "## Train Model"
   ]
  },
  {
   "cell_type": "code",
   "execution_count": 434,
   "id": "876d17a6",
   "metadata": {},
   "outputs": [],
   "source": [
    "from sklearn.linear_model import LinearRegression"
   ]
  },
  {
   "cell_type": "code",
   "execution_count": 435,
   "id": "cc89fde7",
   "metadata": {},
   "outputs": [
    {
     "data": {
      "text/plain": [
       "LinearRegression()"
      ]
     },
     "execution_count": 435,
     "metadata": {},
     "output_type": "execute_result"
    }
   ],
   "source": [
    "lr_model = LinearRegression()\n",
    "lr_model.fit(X_train, y_train)"
   ]
  },
  {
   "cell_type": "code",
   "execution_count": 436,
   "id": "dba51632",
   "metadata": {},
   "outputs": [],
   "source": [
    "y_pred = lr_model.predict(X_test)"
   ]
  },
  {
   "cell_type": "markdown",
   "id": "94a34d14",
   "metadata": {},
   "source": [
    "## Evaluate"
   ]
  },
  {
   "cell_type": "code",
   "execution_count": 437,
   "id": "254ea10a",
   "metadata": {},
   "outputs": [],
   "source": [
    "from sklearn.metrics import r2_score, mean_squared_error"
   ]
  },
  {
   "cell_type": "code",
   "execution_count": 438,
   "id": "6e881f43",
   "metadata": {},
   "outputs": [],
   "source": [
    "r2 = r2_score(y_test, y_pred)\n",
    "mse = mean_squared_error(y_test, y_pred)"
   ]
  },
  {
   "cell_type": "code",
   "execution_count": 439,
   "id": "64c09120",
   "metadata": {},
   "outputs": [
    {
     "name": "stdout",
     "output_type": "stream",
     "text": [
      "R2 Score = 0.91\n",
      "MSE = 778756088574878.8\n"
     ]
    }
   ],
   "source": [
    "print(f\"R2 Score = {r2:.2f}\")\n",
    "print(f\"MSE = {mse}\")"
   ]
  },
  {
   "cell_type": "code",
   "execution_count": 455,
   "id": "56583cf4",
   "metadata": {},
   "outputs": [
    {
     "data": {
      "text/plain": [
       "(250000000, 265943232.46135616)"
      ]
     },
     "execution_count": 455,
     "metadata": {},
     "output_type": "execute_result"
    }
   ],
   "source": [
    "i = 111\n",
    "y_test.to_numpy()[i], y_pred[i]"
   ]
  },
  {
   "cell_type": "markdown",
   "id": "adc6f890",
   "metadata": {},
   "source": [
    "## Save Model"
   ]
  },
  {
   "cell_type": "code",
   "execution_count": 457,
   "id": "4769a068",
   "metadata": {},
   "outputs": [],
   "source": [
    "import pickle"
   ]
  },
  {
   "cell_type": "code",
   "execution_count": 458,
   "id": "0cef4452",
   "metadata": {},
   "outputs": [],
   "source": [
    "pickle.dump(scaler, open('Scaler.pkl', 'wb'))\n",
    "pickle.dump(lr_model, open('CarPricePredictionModel.pkl', 'wb'))"
   ]
  },
  {
   "cell_type": "markdown",
   "id": "335d02dc",
   "metadata": {},
   "source": [
    "## Predict Script"
   ]
  },
  {
   "cell_type": "code",
   "execution_count": 472,
   "id": "a2517e64",
   "metadata": {},
   "outputs": [],
   "source": [
    "def predict_car_price(car_feature, car_price, treshold = 0.05):\n",
    "    import warnings\n",
    "    warnings.filterwarnings(\"ignore\")\n",
    "    \n",
    "    model = pickle.load(open('CarPricePredictionModel.pkl', 'rb'))\n",
    "    scaler = pickle.load(open('Scaler.pkl', 'rb'))\n",
    "    x_train = scaler.transform([car_feature])\n",
    "    y_predicted = model.predict(x_train)\n",
    "    \n",
    "    state = 'OK' if car_price <= (1+treshold) * round(y_predicted[0]) else 'Not OK'\n",
    "    \n",
    "    return round(y_predicted[0]), state, car_price"
   ]
  },
  {
   "cell_type": "code",
   "execution_count": 475,
   "id": "d53019eb",
   "metadata": {},
   "outputs": [
    {
     "data": {
      "text/plain": [
       "(383119040, 'Not OK', 433000000)"
      ]
     },
     "execution_count": 475,
     "metadata": {},
     "output_type": "execute_result"
    }
   ],
   "source": [
    "i = 10\n",
    "predict_car_price(X.to_numpy()[0], y[i])"
   ]
  }
 ],
 "metadata": {
  "kernelspec": {
   "display_name": "Python 3 (ipykernel)",
   "language": "python",
   "name": "python3"
  },
  "language_info": {
   "codemirror_mode": {
    "name": "ipython",
    "version": 3
   },
   "file_extension": ".py",
   "mimetype": "text/x-python",
   "name": "python",
   "nbconvert_exporter": "python",
   "pygments_lexer": "ipython3",
   "version": "3.9.17"
  }
 },
 "nbformat": 4,
 "nbformat_minor": 5
}
