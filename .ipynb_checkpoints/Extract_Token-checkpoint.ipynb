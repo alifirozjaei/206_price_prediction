{
 "cells": [
  {
   "cell_type": "code",
   "execution_count": 47,
   "id": "8d2735de",
   "metadata": {},
   "outputs": [],
   "source": [
    "from selenium import webdriver\n",
    "from selenium.webdriver.chrome.options import Options\n",
    "from selenium.webdriver.common.by import By\n",
    "from selenium.webdriver.support.wait import WebDriverWait\n",
    "from selenium.webdriver.support import expected_conditions as EC\n",
    "import json\n",
    "\n",
    "import time"
   ]
  },
  {
   "cell_type": "markdown",
   "id": "89979b9a",
   "metadata": {},
   "source": [
    "# Extract Tokens from Divar Posts"
   ]
  },
  {
   "cell_type": "code",
   "execution_count": 2,
   "id": "0002bf86",
   "metadata": {},
   "outputs": [],
   "source": [
    "webdriver_path = \"geckodriver\"  # Replace with the actual path to chromedriver executable\n",
    "firefox_options = webdriver.FirefoxOptions()\n",
    "driver = webdriver.Firefox(executable_path=webdriver_path, options=firefox_options)"
   ]
  },
  {
   "cell_type": "code",
   "execution_count": 3,
   "id": "c9ea4513",
   "metadata": {},
   "outputs": [],
   "source": [
    "driver.get(\"https://divar.ir/s/tehran-province/car?q=206%20%D8%AA%DB%8C%D9%BE%202\")"
   ]
  },
  {
   "cell_type": "code",
   "execution_count": 4,
   "id": "e28ebe60",
   "metadata": {},
   "outputs": [],
   "source": [
    "items = [] \n",
    "SCROLL_PAUSE_TIME = 1"
   ]
  },
  {
   "cell_type": "code",
   "execution_count": 5,
   "id": "7ad2c6ab",
   "metadata": {},
   "outputs": [],
   "source": [
    "last_height = driver.execute_script(\"return document.body.scrollHeight\")"
   ]
  },
  {
   "cell_type": "code",
   "execution_count": 6,
   "id": "5277f137",
   "metadata": {},
   "outputs": [],
   "source": [
    "counter = 0"
   ]
  },
  {
   "cell_type": "code",
   "execution_count": 7,
   "id": "6a0d4ff4",
   "metadata": {},
   "outputs": [
    {
     "name": "stdout",
     "output_type": "stream",
     "text": [
      "20\n",
      "40\n",
      "60\n",
      "80\n",
      "100\n",
      "120\n",
      "140\n",
      "160\n",
      "180\n",
      "200\n",
      "220\n"
     ]
    }
   ],
   "source": [
    "while True:\n",
    "    counter += 1 \n",
    "    if counter % 20 == 0:\n",
    "        print(counter)\n",
    "    \n",
    "    driver.execute_script(\"window.scrollTo(0, document.body.scrollHeight);\")\n",
    "    time.sleep(SCROLL_PAUSE_TIME)\n",
    "    new_height = driver.execute_script(\"return document.body.scrollHeight\")\n",
    "    \n",
    "    if new_height == last_height:\n",
    "        element_exists = len(driver.find_elements_by_xpath(\"/html/body/div[1]/div[2]/main/div[2]/div[2]/div/button\")) > 0\n",
    "        if element_exists:\n",
    "            driver.find_elements_by_xpath(\"/html/body/div[1]/div[2]/main/div[2]/div[2]/div/button\")[0].click()\n",
    "            time.sleep(SCROLL_PAUSE_TIME)\n",
    "            new_height = driver.execute_script(\"return document.body.scrollHeight\")\n",
    "            continue; \n",
    "        else:\n",
    "            break\n",
    "    last_height = new_height\n",
    "    \n",
    "    elements =  driver.find_elements(By.CSS_SELECTOR, '.kt-post-card--has-chat')\n",
    "    for element in elements:\n",
    "#         title = element.find_element(By.CSS_SELECTOR, '.kt-post-card__title').text\n",
    "#         distance = element.find_elements(By.CSS_SELECTOR, '.kt-post-card__description')[0].text\n",
    "#         price = element.find_elements(By.CSS_SELECTOR, '.kt-post-card__description')[1].text\n",
    "# #         location = element.find_element(By.CSS_SELECTOR, '.kt-post-card__bottom-description').text\n",
    "        token = element.get_attribute(\"token\").split(\"/\")[-1]\n",
    "      \n",
    "        items.append(token)\n",
    "    \n",
    "    #.kt-post-card--has-chat kt-post-card__bottom-description\n",
    "#     //*[contains(concat( \" \", @class, \" \" ), concat( \" \", \"kt-post-card--has-chat\", \" \" ))]"
   ]
  },
  {
   "cell_type": "code",
   "execution_count": 1,
   "id": "8d34416b",
   "metadata": {},
   "outputs": [],
   "source": [
    "import numpy as np\n",
    "import pandas as pd"
   ]
  },
  {
   "cell_type": "code",
   "execution_count": 11,
   "id": "e28e74db",
   "metadata": {},
   "outputs": [],
   "source": [
    "items_token = np.unique(items)"
   ]
  },
  {
   "cell_type": "code",
   "execution_count": 15,
   "id": "559c5724",
   "metadata": {},
   "outputs": [],
   "source": [
    "token_df = pd.DataFrame(items_token, columns=['token'])"
   ]
  },
  {
   "cell_type": "code",
   "execution_count": 16,
   "id": "ef0ec9fb",
   "metadata": {},
   "outputs": [
    {
     "data": {
      "text/html": [
       "<div>\n",
       "<style scoped>\n",
       "    .dataframe tbody tr th:only-of-type {\n",
       "        vertical-align: middle;\n",
       "    }\n",
       "\n",
       "    .dataframe tbody tr th {\n",
       "        vertical-align: top;\n",
       "    }\n",
       "\n",
       "    .dataframe thead th {\n",
       "        text-align: right;\n",
       "    }\n",
       "</style>\n",
       "<table border=\"1\" class=\"dataframe\">\n",
       "  <thead>\n",
       "    <tr style=\"text-align: right;\">\n",
       "      <th></th>\n",
       "      <th>token</th>\n",
       "    </tr>\n",
       "  </thead>\n",
       "  <tbody>\n",
       "    <tr>\n",
       "      <th>0</th>\n",
       "      <td>AZ-1fYag</td>\n",
       "    </tr>\n",
       "    <tr>\n",
       "      <th>1</th>\n",
       "      <td>AZ-1rcG1</td>\n",
       "    </tr>\n",
       "    <tr>\n",
       "      <th>2</th>\n",
       "      <td>AZ-1woVE</td>\n",
       "    </tr>\n",
       "    <tr>\n",
       "      <th>3</th>\n",
       "      <td>AZ-5PN-P</td>\n",
       "    </tr>\n",
       "    <tr>\n",
       "      <th>4</th>\n",
       "      <td>AZ-5P_R6</td>\n",
       "    </tr>\n",
       "    <tr>\n",
       "      <th>...</th>\n",
       "      <td>...</td>\n",
       "    </tr>\n",
       "    <tr>\n",
       "      <th>4867</th>\n",
       "      <td>wYdNQI_T</td>\n",
       "    </tr>\n",
       "    <tr>\n",
       "      <th>4868</th>\n",
       "      <td>wYdwXuT7</td>\n",
       "    </tr>\n",
       "    <tr>\n",
       "      <th>4869</th>\n",
       "      <td>wYe_yAS2</td>\n",
       "    </tr>\n",
       "    <tr>\n",
       "      <th>4870</th>\n",
       "      <td>wYizBn0P</td>\n",
       "    </tr>\n",
       "    <tr>\n",
       "      <th>4871</th>\n",
       "      <td>wYzfzRaN</td>\n",
       "    </tr>\n",
       "  </tbody>\n",
       "</table>\n",
       "<p>4872 rows × 1 columns</p>\n",
       "</div>"
      ],
      "text/plain": [
       "         token\n",
       "0     AZ-1fYag\n",
       "1     AZ-1rcG1\n",
       "2     AZ-1woVE\n",
       "3     AZ-5PN-P\n",
       "4     AZ-5P_R6\n",
       "...        ...\n",
       "4867  wYdNQI_T\n",
       "4868  wYdwXuT7\n",
       "4869  wYe_yAS2\n",
       "4870  wYizBn0P\n",
       "4871  wYzfzRaN\n",
       "\n",
       "[4872 rows x 1 columns]"
      ]
     },
     "execution_count": 16,
     "metadata": {},
     "output_type": "execute_result"
    }
   ],
   "source": [
    "token_df"
   ]
  },
  {
   "cell_type": "code",
   "execution_count": 18,
   "id": "3228f7b7",
   "metadata": {},
   "outputs": [],
   "source": [
    "token_df.to_csv(\"206-token.csv\")"
   ]
  }
 ],
 "metadata": {
  "kernelspec": {
   "display_name": "Python 3 (ipykernel)",
   "language": "python",
   "name": "python3"
  },
  "language_info": {
   "codemirror_mode": {
    "name": "ipython",
    "version": 3
   },
   "file_extension": ".py",
   "mimetype": "text/x-python",
   "name": "python",
   "nbconvert_exporter": "python",
   "pygments_lexer": "ipython3",
   "version": "3.9.17"
  }
 },
 "nbformat": 4,
 "nbformat_minor": 5
}
